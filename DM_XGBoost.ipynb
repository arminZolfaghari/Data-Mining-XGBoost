{
  "nbformat": 4,
  "nbformat_minor": 0,
  "metadata": {
    "colab": {
      "name": "DM_FP_XGBoost.ipynb",
      "provenance": [],
      "collapsed_sections": []
    },
    "kernelspec": {
      "name": "python3",
      "display_name": "Python 3"
    },
    "language_info": {
      "name": "python"
    },
    "gpuClass": "standard",
    "accelerator": "GPU"
  },
  "cells": [
    {
      "cell_type": "markdown",
      "source": [
        "# Step0: Import"
      ],
      "metadata": {
        "id": "WnYXpxTFGJxw"
      }
    },
    {
      "cell_type": "code",
      "execution_count": 153,
      "metadata": {
        "id": "CRKXlB2AGBVh"
      },
      "outputs": [],
      "source": [
        "from google.colab import drive\n",
        "import pandas as pd\n",
        "import numpy as np\n",
        "from sklearn.preprocessing import MinMaxScaler\n",
        "from sklearn.model_selection import train_test_split\n",
        "from xgboost import XGBClassifier\n",
        "from sklearn.metrics import auc, precision_recall_curve, confusion_matrix, accuracy_score, roc_auc_score\n",
        "from sklearn.model_selection import GridSearchCV\n",
        "import matplotlib.pyplot as plt\n",
        "import pickle"
      ]
    },
    {
      "cell_type": "markdown",
      "source": [
        "#Step1: Getting the data\n"
      ],
      "metadata": {
        "id": "zldYolWAHS4y"
      }
    },
    {
      "cell_type": "code",
      "source": [
        "drive.mount('/content/gdrive')\n",
        "dataset = pd.read_csv('/content/gdrive/MyDrive/Colab Notebooks/Data Mining Course/Final Project/diabetes.csv')\n",
        "dataset"
      ],
      "metadata": {
        "colab": {
          "base_uri": "https://localhost:8080/",
          "height": 520
        },
        "id": "LDi9IDMSHZbP",
        "outputId": "4bf060eb-0924-49d0-d887-32496238c9a1"
      },
      "execution_count": 154,
      "outputs": [
        {
          "output_type": "stream",
          "name": "stdout",
          "text": [
            "Drive already mounted at /content/gdrive; to attempt to forcibly remount, call drive.mount(\"/content/gdrive\", force_remount=True).\n"
          ]
        },
        {
          "output_type": "execute_result",
          "data": {
            "text/plain": [
              "       Unnamed: 0  Diabetes_binary  HighBP  High Cholesterol  \\\n",
              "0               0              0.0     1.0               0.0   \n",
              "1               1              0.0     1.0               1.0   \n",
              "2               2              0.0     0.0               0.0   \n",
              "3               3              0.0     1.0               1.0   \n",
              "4               4              0.0     0.0               0.0   \n",
              "...           ...              ...     ...               ...   \n",
              "70687       70687              1.0     0.0               1.0   \n",
              "70688       70688              1.0     0.0               1.0   \n",
              "70689       70689              1.0     1.0               1.0   \n",
              "70690       70690              1.0     1.0               1.0   \n",
              "70691       70691              1.0     1.0               1.0   \n",
              "\n",
              "       Cholesterol Check   BMI  Smoker  Stroke  HeartDiseaseorAttack  \\\n",
              "0                    1.0  26.0     0.0     0.0                   0.0   \n",
              "1                    1.0  26.0     1.0     1.0                   0.0   \n",
              "2                    1.0  26.0     0.0     0.0                   0.0   \n",
              "3                    1.0  28.0     1.0     0.0                   0.0   \n",
              "4                    1.0  29.0     1.0     0.0                   0.0   \n",
              "...                  ...   ...     ...     ...                   ...   \n",
              "70687                1.0  37.0     0.0     0.0                   0.0   \n",
              "70688                1.0  29.0     1.0     0.0                   1.0   \n",
              "70689                1.0  25.0     0.0     0.0                   1.0   \n",
              "70690                1.0  18.0     0.0     0.0                   0.0   \n",
              "70691                1.0  25.0     0.0     0.0                   1.0   \n",
              "\n",
              "       Physical Activity  ...  Any Health Care  No Doctor because of Cost  \\\n",
              "0                    1.0  ...              1.0                        0.0   \n",
              "1                    0.0  ...              1.0                        0.0   \n",
              "2                    1.0  ...              1.0                        0.0   \n",
              "3                    1.0  ...              1.0                        0.0   \n",
              "4                    1.0  ...              1.0                        0.0   \n",
              "...                  ...  ...              ...                        ...   \n",
              "70687                0.0  ...              1.0                        0.0   \n",
              "70688                0.0  ...              1.0                        0.0   \n",
              "70689                0.0  ...              1.0                        0.0   \n",
              "70690                0.0  ...              1.0                        0.0   \n",
              "70691                1.0  ...              1.0                        0.0   \n",
              "\n",
              "       General Health  Mental Health  Physical Health Difficulty Walking  \\\n",
              "0              Medium            5.0             30.0                0.0   \n",
              "1              Medium            0.0              0.0                0.0   \n",
              "2                High            0.0             10.0                0.0   \n",
              "3              Medium            0.0              3.0                0.0   \n",
              "4                Good            0.0              0.0                0.0   \n",
              "...               ...            ...              ...                ...   \n",
              "70687             Low            0.0              0.0                0.0   \n",
              "70688            Good            0.0              0.0                1.0   \n",
              "70689        Very Low           15.0              0.0                1.0   \n",
              "70690             Low            0.0              0.0                1.0   \n",
              "70691            Good            0.0              0.0                0.0   \n",
              "\n",
              "          Sex   Age  Education Income  \n",
              "0        male   4.0       Cat6   Cat8  \n",
              "1        male  12.0       Cat6   Cat8  \n",
              "2        male  13.0       Cat6   Cat8  \n",
              "3        male  11.0       Cat6   Cat8  \n",
              "4      female   8.0       Cat5   Cat8  \n",
              "...       ...   ...        ...    ...  \n",
              "70687  female   6.0       Cat4   Cat1  \n",
              "70688    male  10.0       Cat3   Cat6  \n",
              "70689  female  13.0       Cat6   Cat4  \n",
              "70690  female  11.0       Cat2   Cat4  \n",
              "70691  female   9.0       Cat6   Cat2  \n",
              "\n",
              "[70692 rows x 23 columns]"
            ],
            "text/html": [
              "\n",
              "  <div id=\"df-1e6a60b1-5743-45d2-9c40-0a3933693493\">\n",
              "    <div class=\"colab-df-container\">\n",
              "      <div>\n",
              "<style scoped>\n",
              "    .dataframe tbody tr th:only-of-type {\n",
              "        vertical-align: middle;\n",
              "    }\n",
              "\n",
              "    .dataframe tbody tr th {\n",
              "        vertical-align: top;\n",
              "    }\n",
              "\n",
              "    .dataframe thead th {\n",
              "        text-align: right;\n",
              "    }\n",
              "</style>\n",
              "<table border=\"1\" class=\"dataframe\">\n",
              "  <thead>\n",
              "    <tr style=\"text-align: right;\">\n",
              "      <th></th>\n",
              "      <th>Unnamed: 0</th>\n",
              "      <th>Diabetes_binary</th>\n",
              "      <th>HighBP</th>\n",
              "      <th>High Cholesterol</th>\n",
              "      <th>Cholesterol Check</th>\n",
              "      <th>BMI</th>\n",
              "      <th>Smoker</th>\n",
              "      <th>Stroke</th>\n",
              "      <th>HeartDiseaseorAttack</th>\n",
              "      <th>Physical Activity</th>\n",
              "      <th>...</th>\n",
              "      <th>Any Health Care</th>\n",
              "      <th>No Doctor because of Cost</th>\n",
              "      <th>General Health</th>\n",
              "      <th>Mental Health</th>\n",
              "      <th>Physical Health</th>\n",
              "      <th>Difficulty Walking</th>\n",
              "      <th>Sex</th>\n",
              "      <th>Age</th>\n",
              "      <th>Education</th>\n",
              "      <th>Income</th>\n",
              "    </tr>\n",
              "  </thead>\n",
              "  <tbody>\n",
              "    <tr>\n",
              "      <th>0</th>\n",
              "      <td>0</td>\n",
              "      <td>0.0</td>\n",
              "      <td>1.0</td>\n",
              "      <td>0.0</td>\n",
              "      <td>1.0</td>\n",
              "      <td>26.0</td>\n",
              "      <td>0.0</td>\n",
              "      <td>0.0</td>\n",
              "      <td>0.0</td>\n",
              "      <td>1.0</td>\n",
              "      <td>...</td>\n",
              "      <td>1.0</td>\n",
              "      <td>0.0</td>\n",
              "      <td>Medium</td>\n",
              "      <td>5.0</td>\n",
              "      <td>30.0</td>\n",
              "      <td>0.0</td>\n",
              "      <td>male</td>\n",
              "      <td>4.0</td>\n",
              "      <td>Cat6</td>\n",
              "      <td>Cat8</td>\n",
              "    </tr>\n",
              "    <tr>\n",
              "      <th>1</th>\n",
              "      <td>1</td>\n",
              "      <td>0.0</td>\n",
              "      <td>1.0</td>\n",
              "      <td>1.0</td>\n",
              "      <td>1.0</td>\n",
              "      <td>26.0</td>\n",
              "      <td>1.0</td>\n",
              "      <td>1.0</td>\n",
              "      <td>0.0</td>\n",
              "      <td>0.0</td>\n",
              "      <td>...</td>\n",
              "      <td>1.0</td>\n",
              "      <td>0.0</td>\n",
              "      <td>Medium</td>\n",
              "      <td>0.0</td>\n",
              "      <td>0.0</td>\n",
              "      <td>0.0</td>\n",
              "      <td>male</td>\n",
              "      <td>12.0</td>\n",
              "      <td>Cat6</td>\n",
              "      <td>Cat8</td>\n",
              "    </tr>\n",
              "    <tr>\n",
              "      <th>2</th>\n",
              "      <td>2</td>\n",
              "      <td>0.0</td>\n",
              "      <td>0.0</td>\n",
              "      <td>0.0</td>\n",
              "      <td>1.0</td>\n",
              "      <td>26.0</td>\n",
              "      <td>0.0</td>\n",
              "      <td>0.0</td>\n",
              "      <td>0.0</td>\n",
              "      <td>1.0</td>\n",
              "      <td>...</td>\n",
              "      <td>1.0</td>\n",
              "      <td>0.0</td>\n",
              "      <td>High</td>\n",
              "      <td>0.0</td>\n",
              "      <td>10.0</td>\n",
              "      <td>0.0</td>\n",
              "      <td>male</td>\n",
              "      <td>13.0</td>\n",
              "      <td>Cat6</td>\n",
              "      <td>Cat8</td>\n",
              "    </tr>\n",
              "    <tr>\n",
              "      <th>3</th>\n",
              "      <td>3</td>\n",
              "      <td>0.0</td>\n",
              "      <td>1.0</td>\n",
              "      <td>1.0</td>\n",
              "      <td>1.0</td>\n",
              "      <td>28.0</td>\n",
              "      <td>1.0</td>\n",
              "      <td>0.0</td>\n",
              "      <td>0.0</td>\n",
              "      <td>1.0</td>\n",
              "      <td>...</td>\n",
              "      <td>1.0</td>\n",
              "      <td>0.0</td>\n",
              "      <td>Medium</td>\n",
              "      <td>0.0</td>\n",
              "      <td>3.0</td>\n",
              "      <td>0.0</td>\n",
              "      <td>male</td>\n",
              "      <td>11.0</td>\n",
              "      <td>Cat6</td>\n",
              "      <td>Cat8</td>\n",
              "    </tr>\n",
              "    <tr>\n",
              "      <th>4</th>\n",
              "      <td>4</td>\n",
              "      <td>0.0</td>\n",
              "      <td>0.0</td>\n",
              "      <td>0.0</td>\n",
              "      <td>1.0</td>\n",
              "      <td>29.0</td>\n",
              "      <td>1.0</td>\n",
              "      <td>0.0</td>\n",
              "      <td>0.0</td>\n",
              "      <td>1.0</td>\n",
              "      <td>...</td>\n",
              "      <td>1.0</td>\n",
              "      <td>0.0</td>\n",
              "      <td>Good</td>\n",
              "      <td>0.0</td>\n",
              "      <td>0.0</td>\n",
              "      <td>0.0</td>\n",
              "      <td>female</td>\n",
              "      <td>8.0</td>\n",
              "      <td>Cat5</td>\n",
              "      <td>Cat8</td>\n",
              "    </tr>\n",
              "    <tr>\n",
              "      <th>...</th>\n",
              "      <td>...</td>\n",
              "      <td>...</td>\n",
              "      <td>...</td>\n",
              "      <td>...</td>\n",
              "      <td>...</td>\n",
              "      <td>...</td>\n",
              "      <td>...</td>\n",
              "      <td>...</td>\n",
              "      <td>...</td>\n",
              "      <td>...</td>\n",
              "      <td>...</td>\n",
              "      <td>...</td>\n",
              "      <td>...</td>\n",
              "      <td>...</td>\n",
              "      <td>...</td>\n",
              "      <td>...</td>\n",
              "      <td>...</td>\n",
              "      <td>...</td>\n",
              "      <td>...</td>\n",
              "      <td>...</td>\n",
              "      <td>...</td>\n",
              "    </tr>\n",
              "    <tr>\n",
              "      <th>70687</th>\n",
              "      <td>70687</td>\n",
              "      <td>1.0</td>\n",
              "      <td>0.0</td>\n",
              "      <td>1.0</td>\n",
              "      <td>1.0</td>\n",
              "      <td>37.0</td>\n",
              "      <td>0.0</td>\n",
              "      <td>0.0</td>\n",
              "      <td>0.0</td>\n",
              "      <td>0.0</td>\n",
              "      <td>...</td>\n",
              "      <td>1.0</td>\n",
              "      <td>0.0</td>\n",
              "      <td>Low</td>\n",
              "      <td>0.0</td>\n",
              "      <td>0.0</td>\n",
              "      <td>0.0</td>\n",
              "      <td>female</td>\n",
              "      <td>6.0</td>\n",
              "      <td>Cat4</td>\n",
              "      <td>Cat1</td>\n",
              "    </tr>\n",
              "    <tr>\n",
              "      <th>70688</th>\n",
              "      <td>70688</td>\n",
              "      <td>1.0</td>\n",
              "      <td>0.0</td>\n",
              "      <td>1.0</td>\n",
              "      <td>1.0</td>\n",
              "      <td>29.0</td>\n",
              "      <td>1.0</td>\n",
              "      <td>0.0</td>\n",
              "      <td>1.0</td>\n",
              "      <td>0.0</td>\n",
              "      <td>...</td>\n",
              "      <td>1.0</td>\n",
              "      <td>0.0</td>\n",
              "      <td>Good</td>\n",
              "      <td>0.0</td>\n",
              "      <td>0.0</td>\n",
              "      <td>1.0</td>\n",
              "      <td>male</td>\n",
              "      <td>10.0</td>\n",
              "      <td>Cat3</td>\n",
              "      <td>Cat6</td>\n",
              "    </tr>\n",
              "    <tr>\n",
              "      <th>70689</th>\n",
              "      <td>70689</td>\n",
              "      <td>1.0</td>\n",
              "      <td>1.0</td>\n",
              "      <td>1.0</td>\n",
              "      <td>1.0</td>\n",
              "      <td>25.0</td>\n",
              "      <td>0.0</td>\n",
              "      <td>0.0</td>\n",
              "      <td>1.0</td>\n",
              "      <td>0.0</td>\n",
              "      <td>...</td>\n",
              "      <td>1.0</td>\n",
              "      <td>0.0</td>\n",
              "      <td>Very Low</td>\n",
              "      <td>15.0</td>\n",
              "      <td>0.0</td>\n",
              "      <td>1.0</td>\n",
              "      <td>female</td>\n",
              "      <td>13.0</td>\n",
              "      <td>Cat6</td>\n",
              "      <td>Cat4</td>\n",
              "    </tr>\n",
              "    <tr>\n",
              "      <th>70690</th>\n",
              "      <td>70690</td>\n",
              "      <td>1.0</td>\n",
              "      <td>1.0</td>\n",
              "      <td>1.0</td>\n",
              "      <td>1.0</td>\n",
              "      <td>18.0</td>\n",
              "      <td>0.0</td>\n",
              "      <td>0.0</td>\n",
              "      <td>0.0</td>\n",
              "      <td>0.0</td>\n",
              "      <td>...</td>\n",
              "      <td>1.0</td>\n",
              "      <td>0.0</td>\n",
              "      <td>Low</td>\n",
              "      <td>0.0</td>\n",
              "      <td>0.0</td>\n",
              "      <td>1.0</td>\n",
              "      <td>female</td>\n",
              "      <td>11.0</td>\n",
              "      <td>Cat2</td>\n",
              "      <td>Cat4</td>\n",
              "    </tr>\n",
              "    <tr>\n",
              "      <th>70691</th>\n",
              "      <td>70691</td>\n",
              "      <td>1.0</td>\n",
              "      <td>1.0</td>\n",
              "      <td>1.0</td>\n",
              "      <td>1.0</td>\n",
              "      <td>25.0</td>\n",
              "      <td>0.0</td>\n",
              "      <td>0.0</td>\n",
              "      <td>1.0</td>\n",
              "      <td>1.0</td>\n",
              "      <td>...</td>\n",
              "      <td>1.0</td>\n",
              "      <td>0.0</td>\n",
              "      <td>Good</td>\n",
              "      <td>0.0</td>\n",
              "      <td>0.0</td>\n",
              "      <td>0.0</td>\n",
              "      <td>female</td>\n",
              "      <td>9.0</td>\n",
              "      <td>Cat6</td>\n",
              "      <td>Cat2</td>\n",
              "    </tr>\n",
              "  </tbody>\n",
              "</table>\n",
              "<p>70692 rows × 23 columns</p>\n",
              "</div>\n",
              "      <button class=\"colab-df-convert\" onclick=\"convertToInteractive('df-1e6a60b1-5743-45d2-9c40-0a3933693493')\"\n",
              "              title=\"Convert this dataframe to an interactive table.\"\n",
              "              style=\"display:none;\">\n",
              "        \n",
              "  <svg xmlns=\"http://www.w3.org/2000/svg\" height=\"24px\"viewBox=\"0 0 24 24\"\n",
              "       width=\"24px\">\n",
              "    <path d=\"M0 0h24v24H0V0z\" fill=\"none\"/>\n",
              "    <path d=\"M18.56 5.44l.94 2.06.94-2.06 2.06-.94-2.06-.94-.94-2.06-.94 2.06-2.06.94zm-11 1L8.5 8.5l.94-2.06 2.06-.94-2.06-.94L8.5 2.5l-.94 2.06-2.06.94zm10 10l.94 2.06.94-2.06 2.06-.94-2.06-.94-.94-2.06-.94 2.06-2.06.94z\"/><path d=\"M17.41 7.96l-1.37-1.37c-.4-.4-.92-.59-1.43-.59-.52 0-1.04.2-1.43.59L10.3 9.45l-7.72 7.72c-.78.78-.78 2.05 0 2.83L4 21.41c.39.39.9.59 1.41.59.51 0 1.02-.2 1.41-.59l7.78-7.78 2.81-2.81c.8-.78.8-2.07 0-2.86zM5.41 20L4 18.59l7.72-7.72 1.47 1.35L5.41 20z\"/>\n",
              "  </svg>\n",
              "      </button>\n",
              "      \n",
              "  <style>\n",
              "    .colab-df-container {\n",
              "      display:flex;\n",
              "      flex-wrap:wrap;\n",
              "      gap: 12px;\n",
              "    }\n",
              "\n",
              "    .colab-df-convert {\n",
              "      background-color: #E8F0FE;\n",
              "      border: none;\n",
              "      border-radius: 50%;\n",
              "      cursor: pointer;\n",
              "      display: none;\n",
              "      fill: #1967D2;\n",
              "      height: 32px;\n",
              "      padding: 0 0 0 0;\n",
              "      width: 32px;\n",
              "    }\n",
              "\n",
              "    .colab-df-convert:hover {\n",
              "      background-color: #E2EBFA;\n",
              "      box-shadow: 0px 1px 2px rgba(60, 64, 67, 0.3), 0px 1px 3px 1px rgba(60, 64, 67, 0.15);\n",
              "      fill: #174EA6;\n",
              "    }\n",
              "\n",
              "    [theme=dark] .colab-df-convert {\n",
              "      background-color: #3B4455;\n",
              "      fill: #D2E3FC;\n",
              "    }\n",
              "\n",
              "    [theme=dark] .colab-df-convert:hover {\n",
              "      background-color: #434B5C;\n",
              "      box-shadow: 0px 1px 3px 1px rgba(0, 0, 0, 0.15);\n",
              "      filter: drop-shadow(0px 1px 2px rgba(0, 0, 0, 0.3));\n",
              "      fill: #FFFFFF;\n",
              "    }\n",
              "  </style>\n",
              "\n",
              "      <script>\n",
              "        const buttonEl =\n",
              "          document.querySelector('#df-1e6a60b1-5743-45d2-9c40-0a3933693493 button.colab-df-convert');\n",
              "        buttonEl.style.display =\n",
              "          google.colab.kernel.accessAllowed ? 'block' : 'none';\n",
              "\n",
              "        async function convertToInteractive(key) {\n",
              "          const element = document.querySelector('#df-1e6a60b1-5743-45d2-9c40-0a3933693493');\n",
              "          const dataTable =\n",
              "            await google.colab.kernel.invokeFunction('convertToInteractive',\n",
              "                                                     [key], {});\n",
              "          if (!dataTable) return;\n",
              "\n",
              "          const docLinkHtml = 'Like what you see? Visit the ' +\n",
              "            '<a target=\"_blank\" href=https://colab.research.google.com/notebooks/data_table.ipynb>data table notebook</a>'\n",
              "            + ' to learn more about interactive tables.';\n",
              "          element.innerHTML = '';\n",
              "          dataTable['output_type'] = 'display_data';\n",
              "          await google.colab.output.renderOutput(dataTable, element);\n",
              "          const docLink = document.createElement('div');\n",
              "          docLink.innerHTML = docLinkHtml;\n",
              "          element.appendChild(docLink);\n",
              "        }\n",
              "      </script>\n",
              "    </div>\n",
              "  </div>\n",
              "  "
            ]
          },
          "metadata": {},
          "execution_count": 154
        }
      ]
    },
    {
      "cell_type": "markdown",
      "source": [
        "#Step2: PreProcessing"
      ],
      "metadata": {
        "id": "7lz9fVKPH2Dj"
      }
    },
    {
      "cell_type": "markdown",
      "source": [
        "## Change columns name and data that have white space"
      ],
      "metadata": {
        "id": "hFNSSfekLXwd"
      }
    },
    {
      "cell_type": "markdown",
      "source": [
        "<div>\n",
        "  <font color=\"yellow\" size=4.5>\n",
        "  Columns name\n",
        "  </font>\n",
        "</div>"
      ],
      "metadata": {
        "id": "5GQLN6ybIKKz"
      }
    },
    {
      "cell_type": "code",
      "source": [
        "dataset.columns"
      ],
      "metadata": {
        "colab": {
          "base_uri": "https://localhost:8080/"
        },
        "id": "RMmovzuYIEis",
        "outputId": "a8ce2b89-4d4f-4ff6-d4d6-13869074b7e4"
      },
      "execution_count": 155,
      "outputs": [
        {
          "output_type": "execute_result",
          "data": {
            "text/plain": [
              "Index(['Unnamed: 0', 'Diabetes_binary', 'HighBP', 'High Cholesterol',\n",
              "       'Cholesterol Check', 'BMI', 'Smoker', 'Stroke', 'HeartDiseaseorAttack',\n",
              "       'Physical Activity', 'Fruits', 'Veggies', 'Heavy Alcohol Consumption',\n",
              "       'Any Health Care', 'No Doctor because of Cost', 'General Health',\n",
              "       'Mental Health', 'Physical Health', 'Difficulty Walking', 'Sex', 'Age',\n",
              "       'Education', 'Income'],\n",
              "      dtype='object')"
            ]
          },
          "metadata": {},
          "execution_count": 155
        }
      ]
    },
    {
      "cell_type": "code",
      "source": [
        "del dataset[\"Unnamed: 0\"]"
      ],
      "metadata": {
        "id": "4mbnWone0frY"
      },
      "execution_count": 156,
      "outputs": []
    },
    {
      "cell_type": "markdown",
      "source": [
        "<div>\n",
        "  <font color=\"yellow\" size=4.5>\n",
        "  Replace white space with '_' in columns name\n",
        "  </font>\n",
        "</div>"
      ],
      "metadata": {
        "id": "xViMDu30IzIA"
      }
    },
    {
      "cell_type": "code",
      "source": [
        "dataset.columns = dataset.columns.str.replace(' ', '_')\n",
        "dataset.columns"
      ],
      "metadata": {
        "colab": {
          "base_uri": "https://localhost:8080/"
        },
        "id": "qvS8knwNIjW8",
        "outputId": "55c8cf07-a2ea-414c-99e1-1a27b0d9221f"
      },
      "execution_count": 157,
      "outputs": [
        {
          "output_type": "execute_result",
          "data": {
            "text/plain": [
              "Index(['Diabetes_binary', 'HighBP', 'High_Cholesterol', 'Cholesterol_Check',\n",
              "       'BMI', 'Smoker', 'Stroke', 'HeartDiseaseorAttack', 'Physical_Activity',\n",
              "       'Fruits', 'Veggies', 'Heavy_Alcohol_Consumption', 'Any_Health_Care',\n",
              "       'No_Doctor_because_of_Cost', 'General_Health', 'Mental_Health',\n",
              "       'Physical_Health', 'Difficulty_Walking', 'Sex', 'Age', 'Education',\n",
              "       'Income'],\n",
              "      dtype='object')"
            ]
          },
          "metadata": {},
          "execution_count": 157
        }
      ]
    },
    {
      "cell_type": "markdown",
      "source": [
        "<div>\n",
        "  <font color=\"yellow\" size=4.5>\n",
        "  Replace white space with '_' in each data \n",
        "  </font>\n",
        "</div>"
      ],
      "metadata": {
        "id": "wRxAggdlJOzt"
      }
    },
    {
      "cell_type": "code",
      "source": [
        "for column_name in dataset.columns:\n",
        "  if type(dataset[column_name][0]) == str:\n",
        "    dataset[column_name] = dataset[column_name].str.replace(' ', '_')\n",
        "  \n",
        "dataset"
      ],
      "metadata": {
        "colab": {
          "base_uri": "https://localhost:8080/",
          "height": 488
        },
        "id": "gxGivaQSJi0L",
        "outputId": "9bb61e8e-1491-4239-f803-86a5789dbc99"
      },
      "execution_count": 158,
      "outputs": [
        {
          "output_type": "execute_result",
          "data": {
            "text/plain": [
              "       Diabetes_binary  HighBP  High_Cholesterol  Cholesterol_Check   BMI  \\\n",
              "0                  0.0     1.0               0.0                1.0  26.0   \n",
              "1                  0.0     1.0               1.0                1.0  26.0   \n",
              "2                  0.0     0.0               0.0                1.0  26.0   \n",
              "3                  0.0     1.0               1.0                1.0  28.0   \n",
              "4                  0.0     0.0               0.0                1.0  29.0   \n",
              "...                ...     ...               ...                ...   ...   \n",
              "70687              1.0     0.0               1.0                1.0  37.0   \n",
              "70688              1.0     0.0               1.0                1.0  29.0   \n",
              "70689              1.0     1.0               1.0                1.0  25.0   \n",
              "70690              1.0     1.0               1.0                1.0  18.0   \n",
              "70691              1.0     1.0               1.0                1.0  25.0   \n",
              "\n",
              "       Smoker  Stroke  HeartDiseaseorAttack  Physical_Activity  Fruits  ...  \\\n",
              "0         0.0     0.0                   0.0                1.0     0.0  ...   \n",
              "1         1.0     1.0                   0.0                0.0     1.0  ...   \n",
              "2         0.0     0.0                   0.0                1.0     1.0  ...   \n",
              "3         1.0     0.0                   0.0                1.0     1.0  ...   \n",
              "4         1.0     0.0                   0.0                1.0     1.0  ...   \n",
              "...       ...     ...                   ...                ...     ...  ...   \n",
              "70687     0.0     0.0                   0.0                0.0     0.0  ...   \n",
              "70688     1.0     0.0                   1.0                0.0     1.0  ...   \n",
              "70689     0.0     0.0                   1.0                0.0     1.0  ...   \n",
              "70690     0.0     0.0                   0.0                0.0     0.0  ...   \n",
              "70691     0.0     0.0                   1.0                1.0     1.0  ...   \n",
              "\n",
              "       Any_Health_Care  No_Doctor_because_of_Cost  General_Health  \\\n",
              "0                  1.0                        0.0          Medium   \n",
              "1                  1.0                        0.0          Medium   \n",
              "2                  1.0                        0.0            High   \n",
              "3                  1.0                        0.0          Medium   \n",
              "4                  1.0                        0.0            Good   \n",
              "...                ...                        ...             ...   \n",
              "70687              1.0                        0.0             Low   \n",
              "70688              1.0                        0.0            Good   \n",
              "70689              1.0                        0.0        Very_Low   \n",
              "70690              1.0                        0.0             Low   \n",
              "70691              1.0                        0.0            Good   \n",
              "\n",
              "       Mental_Health Physical_Health  Difficulty_Walking     Sex   Age  \\\n",
              "0                5.0            30.0                 0.0    male   4.0   \n",
              "1                0.0             0.0                 0.0    male  12.0   \n",
              "2                0.0            10.0                 0.0    male  13.0   \n",
              "3                0.0             3.0                 0.0    male  11.0   \n",
              "4                0.0             0.0                 0.0  female   8.0   \n",
              "...              ...             ...                 ...     ...   ...   \n",
              "70687            0.0             0.0                 0.0  female   6.0   \n",
              "70688            0.0             0.0                 1.0    male  10.0   \n",
              "70689           15.0             0.0                 1.0  female  13.0   \n",
              "70690            0.0             0.0                 1.0  female  11.0   \n",
              "70691            0.0             0.0                 0.0  female   9.0   \n",
              "\n",
              "      Education  Income  \n",
              "0          Cat6    Cat8  \n",
              "1          Cat6    Cat8  \n",
              "2          Cat6    Cat8  \n",
              "3          Cat6    Cat8  \n",
              "4          Cat5    Cat8  \n",
              "...         ...     ...  \n",
              "70687      Cat4    Cat1  \n",
              "70688      Cat3    Cat6  \n",
              "70689      Cat6    Cat4  \n",
              "70690      Cat2    Cat4  \n",
              "70691      Cat6    Cat2  \n",
              "\n",
              "[70692 rows x 22 columns]"
            ],
            "text/html": [
              "\n",
              "  <div id=\"df-615322ac-0a20-4339-b8cb-4cbb944a2f60\">\n",
              "    <div class=\"colab-df-container\">\n",
              "      <div>\n",
              "<style scoped>\n",
              "    .dataframe tbody tr th:only-of-type {\n",
              "        vertical-align: middle;\n",
              "    }\n",
              "\n",
              "    .dataframe tbody tr th {\n",
              "        vertical-align: top;\n",
              "    }\n",
              "\n",
              "    .dataframe thead th {\n",
              "        text-align: right;\n",
              "    }\n",
              "</style>\n",
              "<table border=\"1\" class=\"dataframe\">\n",
              "  <thead>\n",
              "    <tr style=\"text-align: right;\">\n",
              "      <th></th>\n",
              "      <th>Diabetes_binary</th>\n",
              "      <th>HighBP</th>\n",
              "      <th>High_Cholesterol</th>\n",
              "      <th>Cholesterol_Check</th>\n",
              "      <th>BMI</th>\n",
              "      <th>Smoker</th>\n",
              "      <th>Stroke</th>\n",
              "      <th>HeartDiseaseorAttack</th>\n",
              "      <th>Physical_Activity</th>\n",
              "      <th>Fruits</th>\n",
              "      <th>...</th>\n",
              "      <th>Any_Health_Care</th>\n",
              "      <th>No_Doctor_because_of_Cost</th>\n",
              "      <th>General_Health</th>\n",
              "      <th>Mental_Health</th>\n",
              "      <th>Physical_Health</th>\n",
              "      <th>Difficulty_Walking</th>\n",
              "      <th>Sex</th>\n",
              "      <th>Age</th>\n",
              "      <th>Education</th>\n",
              "      <th>Income</th>\n",
              "    </tr>\n",
              "  </thead>\n",
              "  <tbody>\n",
              "    <tr>\n",
              "      <th>0</th>\n",
              "      <td>0.0</td>\n",
              "      <td>1.0</td>\n",
              "      <td>0.0</td>\n",
              "      <td>1.0</td>\n",
              "      <td>26.0</td>\n",
              "      <td>0.0</td>\n",
              "      <td>0.0</td>\n",
              "      <td>0.0</td>\n",
              "      <td>1.0</td>\n",
              "      <td>0.0</td>\n",
              "      <td>...</td>\n",
              "      <td>1.0</td>\n",
              "      <td>0.0</td>\n",
              "      <td>Medium</td>\n",
              "      <td>5.0</td>\n",
              "      <td>30.0</td>\n",
              "      <td>0.0</td>\n",
              "      <td>male</td>\n",
              "      <td>4.0</td>\n",
              "      <td>Cat6</td>\n",
              "      <td>Cat8</td>\n",
              "    </tr>\n",
              "    <tr>\n",
              "      <th>1</th>\n",
              "      <td>0.0</td>\n",
              "      <td>1.0</td>\n",
              "      <td>1.0</td>\n",
              "      <td>1.0</td>\n",
              "      <td>26.0</td>\n",
              "      <td>1.0</td>\n",
              "      <td>1.0</td>\n",
              "      <td>0.0</td>\n",
              "      <td>0.0</td>\n",
              "      <td>1.0</td>\n",
              "      <td>...</td>\n",
              "      <td>1.0</td>\n",
              "      <td>0.0</td>\n",
              "      <td>Medium</td>\n",
              "      <td>0.0</td>\n",
              "      <td>0.0</td>\n",
              "      <td>0.0</td>\n",
              "      <td>male</td>\n",
              "      <td>12.0</td>\n",
              "      <td>Cat6</td>\n",
              "      <td>Cat8</td>\n",
              "    </tr>\n",
              "    <tr>\n",
              "      <th>2</th>\n",
              "      <td>0.0</td>\n",
              "      <td>0.0</td>\n",
              "      <td>0.0</td>\n",
              "      <td>1.0</td>\n",
              "      <td>26.0</td>\n",
              "      <td>0.0</td>\n",
              "      <td>0.0</td>\n",
              "      <td>0.0</td>\n",
              "      <td>1.0</td>\n",
              "      <td>1.0</td>\n",
              "      <td>...</td>\n",
              "      <td>1.0</td>\n",
              "      <td>0.0</td>\n",
              "      <td>High</td>\n",
              "      <td>0.0</td>\n",
              "      <td>10.0</td>\n",
              "      <td>0.0</td>\n",
              "      <td>male</td>\n",
              "      <td>13.0</td>\n",
              "      <td>Cat6</td>\n",
              "      <td>Cat8</td>\n",
              "    </tr>\n",
              "    <tr>\n",
              "      <th>3</th>\n",
              "      <td>0.0</td>\n",
              "      <td>1.0</td>\n",
              "      <td>1.0</td>\n",
              "      <td>1.0</td>\n",
              "      <td>28.0</td>\n",
              "      <td>1.0</td>\n",
              "      <td>0.0</td>\n",
              "      <td>0.0</td>\n",
              "      <td>1.0</td>\n",
              "      <td>1.0</td>\n",
              "      <td>...</td>\n",
              "      <td>1.0</td>\n",
              "      <td>0.0</td>\n",
              "      <td>Medium</td>\n",
              "      <td>0.0</td>\n",
              "      <td>3.0</td>\n",
              "      <td>0.0</td>\n",
              "      <td>male</td>\n",
              "      <td>11.0</td>\n",
              "      <td>Cat6</td>\n",
              "      <td>Cat8</td>\n",
              "    </tr>\n",
              "    <tr>\n",
              "      <th>4</th>\n",
              "      <td>0.0</td>\n",
              "      <td>0.0</td>\n",
              "      <td>0.0</td>\n",
              "      <td>1.0</td>\n",
              "      <td>29.0</td>\n",
              "      <td>1.0</td>\n",
              "      <td>0.0</td>\n",
              "      <td>0.0</td>\n",
              "      <td>1.0</td>\n",
              "      <td>1.0</td>\n",
              "      <td>...</td>\n",
              "      <td>1.0</td>\n",
              "      <td>0.0</td>\n",
              "      <td>Good</td>\n",
              "      <td>0.0</td>\n",
              "      <td>0.0</td>\n",
              "      <td>0.0</td>\n",
              "      <td>female</td>\n",
              "      <td>8.0</td>\n",
              "      <td>Cat5</td>\n",
              "      <td>Cat8</td>\n",
              "    </tr>\n",
              "    <tr>\n",
              "      <th>...</th>\n",
              "      <td>...</td>\n",
              "      <td>...</td>\n",
              "      <td>...</td>\n",
              "      <td>...</td>\n",
              "      <td>...</td>\n",
              "      <td>...</td>\n",
              "      <td>...</td>\n",
              "      <td>...</td>\n",
              "      <td>...</td>\n",
              "      <td>...</td>\n",
              "      <td>...</td>\n",
              "      <td>...</td>\n",
              "      <td>...</td>\n",
              "      <td>...</td>\n",
              "      <td>...</td>\n",
              "      <td>...</td>\n",
              "      <td>...</td>\n",
              "      <td>...</td>\n",
              "      <td>...</td>\n",
              "      <td>...</td>\n",
              "      <td>...</td>\n",
              "    </tr>\n",
              "    <tr>\n",
              "      <th>70687</th>\n",
              "      <td>1.0</td>\n",
              "      <td>0.0</td>\n",
              "      <td>1.0</td>\n",
              "      <td>1.0</td>\n",
              "      <td>37.0</td>\n",
              "      <td>0.0</td>\n",
              "      <td>0.0</td>\n",
              "      <td>0.0</td>\n",
              "      <td>0.0</td>\n",
              "      <td>0.0</td>\n",
              "      <td>...</td>\n",
              "      <td>1.0</td>\n",
              "      <td>0.0</td>\n",
              "      <td>Low</td>\n",
              "      <td>0.0</td>\n",
              "      <td>0.0</td>\n",
              "      <td>0.0</td>\n",
              "      <td>female</td>\n",
              "      <td>6.0</td>\n",
              "      <td>Cat4</td>\n",
              "      <td>Cat1</td>\n",
              "    </tr>\n",
              "    <tr>\n",
              "      <th>70688</th>\n",
              "      <td>1.0</td>\n",
              "      <td>0.0</td>\n",
              "      <td>1.0</td>\n",
              "      <td>1.0</td>\n",
              "      <td>29.0</td>\n",
              "      <td>1.0</td>\n",
              "      <td>0.0</td>\n",
              "      <td>1.0</td>\n",
              "      <td>0.0</td>\n",
              "      <td>1.0</td>\n",
              "      <td>...</td>\n",
              "      <td>1.0</td>\n",
              "      <td>0.0</td>\n",
              "      <td>Good</td>\n",
              "      <td>0.0</td>\n",
              "      <td>0.0</td>\n",
              "      <td>1.0</td>\n",
              "      <td>male</td>\n",
              "      <td>10.0</td>\n",
              "      <td>Cat3</td>\n",
              "      <td>Cat6</td>\n",
              "    </tr>\n",
              "    <tr>\n",
              "      <th>70689</th>\n",
              "      <td>1.0</td>\n",
              "      <td>1.0</td>\n",
              "      <td>1.0</td>\n",
              "      <td>1.0</td>\n",
              "      <td>25.0</td>\n",
              "      <td>0.0</td>\n",
              "      <td>0.0</td>\n",
              "      <td>1.0</td>\n",
              "      <td>0.0</td>\n",
              "      <td>1.0</td>\n",
              "      <td>...</td>\n",
              "      <td>1.0</td>\n",
              "      <td>0.0</td>\n",
              "      <td>Very_Low</td>\n",
              "      <td>15.0</td>\n",
              "      <td>0.0</td>\n",
              "      <td>1.0</td>\n",
              "      <td>female</td>\n",
              "      <td>13.0</td>\n",
              "      <td>Cat6</td>\n",
              "      <td>Cat4</td>\n",
              "    </tr>\n",
              "    <tr>\n",
              "      <th>70690</th>\n",
              "      <td>1.0</td>\n",
              "      <td>1.0</td>\n",
              "      <td>1.0</td>\n",
              "      <td>1.0</td>\n",
              "      <td>18.0</td>\n",
              "      <td>0.0</td>\n",
              "      <td>0.0</td>\n",
              "      <td>0.0</td>\n",
              "      <td>0.0</td>\n",
              "      <td>0.0</td>\n",
              "      <td>...</td>\n",
              "      <td>1.0</td>\n",
              "      <td>0.0</td>\n",
              "      <td>Low</td>\n",
              "      <td>0.0</td>\n",
              "      <td>0.0</td>\n",
              "      <td>1.0</td>\n",
              "      <td>female</td>\n",
              "      <td>11.0</td>\n",
              "      <td>Cat2</td>\n",
              "      <td>Cat4</td>\n",
              "    </tr>\n",
              "    <tr>\n",
              "      <th>70691</th>\n",
              "      <td>1.0</td>\n",
              "      <td>1.0</td>\n",
              "      <td>1.0</td>\n",
              "      <td>1.0</td>\n",
              "      <td>25.0</td>\n",
              "      <td>0.0</td>\n",
              "      <td>0.0</td>\n",
              "      <td>1.0</td>\n",
              "      <td>1.0</td>\n",
              "      <td>1.0</td>\n",
              "      <td>...</td>\n",
              "      <td>1.0</td>\n",
              "      <td>0.0</td>\n",
              "      <td>Good</td>\n",
              "      <td>0.0</td>\n",
              "      <td>0.0</td>\n",
              "      <td>0.0</td>\n",
              "      <td>female</td>\n",
              "      <td>9.0</td>\n",
              "      <td>Cat6</td>\n",
              "      <td>Cat2</td>\n",
              "    </tr>\n",
              "  </tbody>\n",
              "</table>\n",
              "<p>70692 rows × 22 columns</p>\n",
              "</div>\n",
              "      <button class=\"colab-df-convert\" onclick=\"convertToInteractive('df-615322ac-0a20-4339-b8cb-4cbb944a2f60')\"\n",
              "              title=\"Convert this dataframe to an interactive table.\"\n",
              "              style=\"display:none;\">\n",
              "        \n",
              "  <svg xmlns=\"http://www.w3.org/2000/svg\" height=\"24px\"viewBox=\"0 0 24 24\"\n",
              "       width=\"24px\">\n",
              "    <path d=\"M0 0h24v24H0V0z\" fill=\"none\"/>\n",
              "    <path d=\"M18.56 5.44l.94 2.06.94-2.06 2.06-.94-2.06-.94-.94-2.06-.94 2.06-2.06.94zm-11 1L8.5 8.5l.94-2.06 2.06-.94-2.06-.94L8.5 2.5l-.94 2.06-2.06.94zm10 10l.94 2.06.94-2.06 2.06-.94-2.06-.94-.94-2.06-.94 2.06-2.06.94z\"/><path d=\"M17.41 7.96l-1.37-1.37c-.4-.4-.92-.59-1.43-.59-.52 0-1.04.2-1.43.59L10.3 9.45l-7.72 7.72c-.78.78-.78 2.05 0 2.83L4 21.41c.39.39.9.59 1.41.59.51 0 1.02-.2 1.41-.59l7.78-7.78 2.81-2.81c.8-.78.8-2.07 0-2.86zM5.41 20L4 18.59l7.72-7.72 1.47 1.35L5.41 20z\"/>\n",
              "  </svg>\n",
              "      </button>\n",
              "      \n",
              "  <style>\n",
              "    .colab-df-container {\n",
              "      display:flex;\n",
              "      flex-wrap:wrap;\n",
              "      gap: 12px;\n",
              "    }\n",
              "\n",
              "    .colab-df-convert {\n",
              "      background-color: #E8F0FE;\n",
              "      border: none;\n",
              "      border-radius: 50%;\n",
              "      cursor: pointer;\n",
              "      display: none;\n",
              "      fill: #1967D2;\n",
              "      height: 32px;\n",
              "      padding: 0 0 0 0;\n",
              "      width: 32px;\n",
              "    }\n",
              "\n",
              "    .colab-df-convert:hover {\n",
              "      background-color: #E2EBFA;\n",
              "      box-shadow: 0px 1px 2px rgba(60, 64, 67, 0.3), 0px 1px 3px 1px rgba(60, 64, 67, 0.15);\n",
              "      fill: #174EA6;\n",
              "    }\n",
              "\n",
              "    [theme=dark] .colab-df-convert {\n",
              "      background-color: #3B4455;\n",
              "      fill: #D2E3FC;\n",
              "    }\n",
              "\n",
              "    [theme=dark] .colab-df-convert:hover {\n",
              "      background-color: #434B5C;\n",
              "      box-shadow: 0px 1px 3px 1px rgba(0, 0, 0, 0.15);\n",
              "      filter: drop-shadow(0px 1px 2px rgba(0, 0, 0, 0.3));\n",
              "      fill: #FFFFFF;\n",
              "    }\n",
              "  </style>\n",
              "\n",
              "      <script>\n",
              "        const buttonEl =\n",
              "          document.querySelector('#df-615322ac-0a20-4339-b8cb-4cbb944a2f60 button.colab-df-convert');\n",
              "        buttonEl.style.display =\n",
              "          google.colab.kernel.accessAllowed ? 'block' : 'none';\n",
              "\n",
              "        async function convertToInteractive(key) {\n",
              "          const element = document.querySelector('#df-615322ac-0a20-4339-b8cb-4cbb944a2f60');\n",
              "          const dataTable =\n",
              "            await google.colab.kernel.invokeFunction('convertToInteractive',\n",
              "                                                     [key], {});\n",
              "          if (!dataTable) return;\n",
              "\n",
              "          const docLinkHtml = 'Like what you see? Visit the ' +\n",
              "            '<a target=\"_blank\" href=https://colab.research.google.com/notebooks/data_table.ipynb>data table notebook</a>'\n",
              "            + ' to learn more about interactive tables.';\n",
              "          element.innerHTML = '';\n",
              "          dataTable['output_type'] = 'display_data';\n",
              "          await google.colab.output.renderOutput(dataTable, element);\n",
              "          const docLink = document.createElement('div');\n",
              "          docLink.innerHTML = docLinkHtml;\n",
              "          element.appendChild(docLink);\n",
              "        }\n",
              "      </script>\n",
              "    </div>\n",
              "  </div>\n",
              "  "
            ]
          },
          "metadata": {},
          "execution_count": 158
        }
      ]
    },
    {
      "cell_type": "markdown",
      "source": [
        "## Drop or fill missing data"
      ],
      "metadata": {
        "id": "hiYkSvYnLrdf"
      }
    },
    {
      "cell_type": "code",
      "source": [
        "dataset.isna().sum()"
      ],
      "metadata": {
        "colab": {
          "base_uri": "https://localhost:8080/"
        },
        "id": "MHETF6ZAW5Fg",
        "outputId": "14d9e18b-1db5-43de-f2f9-fa2d89f6a323"
      },
      "execution_count": 159,
      "outputs": [
        {
          "output_type": "execute_result",
          "data": {
            "text/plain": [
              "Diabetes_binary              0\n",
              "HighBP                       0\n",
              "High_Cholesterol             0\n",
              "Cholesterol_Check            0\n",
              "BMI                          1\n",
              "Smoker                       0\n",
              "Stroke                       0\n",
              "HeartDiseaseorAttack         1\n",
              "Physical_Activity            1\n",
              "Fruits                       2\n",
              "Veggies                      1\n",
              "Heavy_Alcohol_Consumption    1\n",
              "Any_Health_Care              2\n",
              "No_Doctor_because_of_Cost    2\n",
              "General_Health               1\n",
              "Mental_Health                1\n",
              "Physical_Health              1\n",
              "Difficulty_Walking           2\n",
              "Sex                          1\n",
              "Age                          1\n",
              "Education                    1\n",
              "Income                       1\n",
              "dtype: int64"
            ]
          },
          "metadata": {},
          "execution_count": 159
        }
      ]
    },
    {
      "cell_type": "markdown",
      "source": [
        "<div>\n",
        "  <font color=\"yellow\" size=4.5>\n",
        "    Drop data that has the most missing value\n",
        "  </font>\n",
        "</div>"
      ],
      "metadata": {
        "id": "725ldgSjN44C"
      }
    },
    {
      "cell_type": "code",
      "source": [
        "dataset[\"HeartDiseaseorAttack\"].describe()"
      ],
      "metadata": {
        "colab": {
          "base_uri": "https://localhost:8080/"
        },
        "id": "M56M9SRiNywt",
        "outputId": "096911e1-1d0c-4bd4-bef7-aa8978d5da68"
      },
      "execution_count": 160,
      "outputs": [
        {
          "output_type": "execute_result",
          "data": {
            "text/plain": [
              "count    70691.000000\n",
              "mean         0.147812\n",
              "std          0.354916\n",
              "min          0.000000\n",
              "25%          0.000000\n",
              "50%          0.000000\n",
              "75%          0.000000\n",
              "max          1.000000\n",
              "Name: HeartDiseaseorAttack, dtype: float64"
            ]
          },
          "metadata": {},
          "execution_count": 160
        }
      ]
    },
    {
      "cell_type": "code",
      "source": [
        "dataset.loc[dataset['HeartDiseaseorAttack'].isna()]"
      ],
      "metadata": {
        "colab": {
          "base_uri": "https://localhost:8080/",
          "height": 174
        },
        "id": "bth53SnpOO3L",
        "outputId": "197c515e-ec7f-47e5-af97-f2195cb34b95"
      },
      "execution_count": 161,
      "outputs": [
        {
          "output_type": "execute_result",
          "data": {
            "text/plain": [
              "       Diabetes_binary  HighBP  High_Cholesterol  Cholesterol_Check   BMI  \\\n",
              "11691              0.0     0.0               0.0                1.0  27.0   \n",
              "\n",
              "       Smoker  Stroke  HeartDiseaseorAttack  Physical_Activity  Fruits  ...  \\\n",
              "11691     0.0     0.0                   NaN                NaN     NaN  ...   \n",
              "\n",
              "       Any_Health_Care  No_Doctor_because_of_Cost  General_Health  \\\n",
              "11691              NaN                        NaN             NaN   \n",
              "\n",
              "       Mental_Health Physical_Health  Difficulty_Walking  Sex  Age Education  \\\n",
              "11691            NaN             NaN                 NaN  NaN  NaN       NaN   \n",
              "\n",
              "       Income  \n",
              "11691     NaN  \n",
              "\n",
              "[1 rows x 22 columns]"
            ],
            "text/html": [
              "\n",
              "  <div id=\"df-1ab48d3a-19a4-4ff8-a1e3-0287e4153367\">\n",
              "    <div class=\"colab-df-container\">\n",
              "      <div>\n",
              "<style scoped>\n",
              "    .dataframe tbody tr th:only-of-type {\n",
              "        vertical-align: middle;\n",
              "    }\n",
              "\n",
              "    .dataframe tbody tr th {\n",
              "        vertical-align: top;\n",
              "    }\n",
              "\n",
              "    .dataframe thead th {\n",
              "        text-align: right;\n",
              "    }\n",
              "</style>\n",
              "<table border=\"1\" class=\"dataframe\">\n",
              "  <thead>\n",
              "    <tr style=\"text-align: right;\">\n",
              "      <th></th>\n",
              "      <th>Diabetes_binary</th>\n",
              "      <th>HighBP</th>\n",
              "      <th>High_Cholesterol</th>\n",
              "      <th>Cholesterol_Check</th>\n",
              "      <th>BMI</th>\n",
              "      <th>Smoker</th>\n",
              "      <th>Stroke</th>\n",
              "      <th>HeartDiseaseorAttack</th>\n",
              "      <th>Physical_Activity</th>\n",
              "      <th>Fruits</th>\n",
              "      <th>...</th>\n",
              "      <th>Any_Health_Care</th>\n",
              "      <th>No_Doctor_because_of_Cost</th>\n",
              "      <th>General_Health</th>\n",
              "      <th>Mental_Health</th>\n",
              "      <th>Physical_Health</th>\n",
              "      <th>Difficulty_Walking</th>\n",
              "      <th>Sex</th>\n",
              "      <th>Age</th>\n",
              "      <th>Education</th>\n",
              "      <th>Income</th>\n",
              "    </tr>\n",
              "  </thead>\n",
              "  <tbody>\n",
              "    <tr>\n",
              "      <th>11691</th>\n",
              "      <td>0.0</td>\n",
              "      <td>0.0</td>\n",
              "      <td>0.0</td>\n",
              "      <td>1.0</td>\n",
              "      <td>27.0</td>\n",
              "      <td>0.0</td>\n",
              "      <td>0.0</td>\n",
              "      <td>NaN</td>\n",
              "      <td>NaN</td>\n",
              "      <td>NaN</td>\n",
              "      <td>...</td>\n",
              "      <td>NaN</td>\n",
              "      <td>NaN</td>\n",
              "      <td>NaN</td>\n",
              "      <td>NaN</td>\n",
              "      <td>NaN</td>\n",
              "      <td>NaN</td>\n",
              "      <td>NaN</td>\n",
              "      <td>NaN</td>\n",
              "      <td>NaN</td>\n",
              "      <td>NaN</td>\n",
              "    </tr>\n",
              "  </tbody>\n",
              "</table>\n",
              "<p>1 rows × 22 columns</p>\n",
              "</div>\n",
              "      <button class=\"colab-df-convert\" onclick=\"convertToInteractive('df-1ab48d3a-19a4-4ff8-a1e3-0287e4153367')\"\n",
              "              title=\"Convert this dataframe to an interactive table.\"\n",
              "              style=\"display:none;\">\n",
              "        \n",
              "  <svg xmlns=\"http://www.w3.org/2000/svg\" height=\"24px\"viewBox=\"0 0 24 24\"\n",
              "       width=\"24px\">\n",
              "    <path d=\"M0 0h24v24H0V0z\" fill=\"none\"/>\n",
              "    <path d=\"M18.56 5.44l.94 2.06.94-2.06 2.06-.94-2.06-.94-.94-2.06-.94 2.06-2.06.94zm-11 1L8.5 8.5l.94-2.06 2.06-.94-2.06-.94L8.5 2.5l-.94 2.06-2.06.94zm10 10l.94 2.06.94-2.06 2.06-.94-2.06-.94-.94-2.06-.94 2.06-2.06.94z\"/><path d=\"M17.41 7.96l-1.37-1.37c-.4-.4-.92-.59-1.43-.59-.52 0-1.04.2-1.43.59L10.3 9.45l-7.72 7.72c-.78.78-.78 2.05 0 2.83L4 21.41c.39.39.9.59 1.41.59.51 0 1.02-.2 1.41-.59l7.78-7.78 2.81-2.81c.8-.78.8-2.07 0-2.86zM5.41 20L4 18.59l7.72-7.72 1.47 1.35L5.41 20z\"/>\n",
              "  </svg>\n",
              "      </button>\n",
              "      \n",
              "  <style>\n",
              "    .colab-df-container {\n",
              "      display:flex;\n",
              "      flex-wrap:wrap;\n",
              "      gap: 12px;\n",
              "    }\n",
              "\n",
              "    .colab-df-convert {\n",
              "      background-color: #E8F0FE;\n",
              "      border: none;\n",
              "      border-radius: 50%;\n",
              "      cursor: pointer;\n",
              "      display: none;\n",
              "      fill: #1967D2;\n",
              "      height: 32px;\n",
              "      padding: 0 0 0 0;\n",
              "      width: 32px;\n",
              "    }\n",
              "\n",
              "    .colab-df-convert:hover {\n",
              "      background-color: #E2EBFA;\n",
              "      box-shadow: 0px 1px 2px rgba(60, 64, 67, 0.3), 0px 1px 3px 1px rgba(60, 64, 67, 0.15);\n",
              "      fill: #174EA6;\n",
              "    }\n",
              "\n",
              "    [theme=dark] .colab-df-convert {\n",
              "      background-color: #3B4455;\n",
              "      fill: #D2E3FC;\n",
              "    }\n",
              "\n",
              "    [theme=dark] .colab-df-convert:hover {\n",
              "      background-color: #434B5C;\n",
              "      box-shadow: 0px 1px 3px 1px rgba(0, 0, 0, 0.15);\n",
              "      filter: drop-shadow(0px 1px 2px rgba(0, 0, 0, 0.3));\n",
              "      fill: #FFFFFF;\n",
              "    }\n",
              "  </style>\n",
              "\n",
              "      <script>\n",
              "        const buttonEl =\n",
              "          document.querySelector('#df-1ab48d3a-19a4-4ff8-a1e3-0287e4153367 button.colab-df-convert');\n",
              "        buttonEl.style.display =\n",
              "          google.colab.kernel.accessAllowed ? 'block' : 'none';\n",
              "\n",
              "        async function convertToInteractive(key) {\n",
              "          const element = document.querySelector('#df-1ab48d3a-19a4-4ff8-a1e3-0287e4153367');\n",
              "          const dataTable =\n",
              "            await google.colab.kernel.invokeFunction('convertToInteractive',\n",
              "                                                     [key], {});\n",
              "          if (!dataTable) return;\n",
              "\n",
              "          const docLinkHtml = 'Like what you see? Visit the ' +\n",
              "            '<a target=\"_blank\" href=https://colab.research.google.com/notebooks/data_table.ipynb>data table notebook</a>'\n",
              "            + ' to learn more about interactive tables.';\n",
              "          element.innerHTML = '';\n",
              "          dataTable['output_type'] = 'display_data';\n",
              "          await google.colab.output.renderOutput(dataTable, element);\n",
              "          const docLink = document.createElement('div');\n",
              "          docLink.innerHTML = docLinkHtml;\n",
              "          element.appendChild(docLink);\n",
              "        }\n",
              "      </script>\n",
              "    </div>\n",
              "  </div>\n",
              "  "
            ]
          },
          "metadata": {},
          "execution_count": 161
        }
      ]
    },
    {
      "cell_type": "code",
      "source": [
        "dataset.iloc[11691]"
      ],
      "metadata": {
        "colab": {
          "base_uri": "https://localhost:8080/"
        },
        "id": "OR40CMidWbd7",
        "outputId": "cf7b3618-434e-4044-ecf4-e31e6f5b33da"
      },
      "execution_count": 162,
      "outputs": [
        {
          "output_type": "execute_result",
          "data": {
            "text/plain": [
              "Diabetes_binary               0.0\n",
              "HighBP                        0.0\n",
              "High_Cholesterol              0.0\n",
              "Cholesterol_Check             1.0\n",
              "BMI                          27.0\n",
              "Smoker                        0.0\n",
              "Stroke                        0.0\n",
              "HeartDiseaseorAttack          NaN\n",
              "Physical_Activity             NaN\n",
              "Fruits                        NaN\n",
              "Veggies                       NaN\n",
              "Heavy_Alcohol_Consumption     NaN\n",
              "Any_Health_Care               NaN\n",
              "No_Doctor_because_of_Cost     NaN\n",
              "General_Health                NaN\n",
              "Mental_Health                 NaN\n",
              "Physical_Health               NaN\n",
              "Difficulty_Walking            NaN\n",
              "Sex                           NaN\n",
              "Age                           NaN\n",
              "Education                     NaN\n",
              "Income                        NaN\n",
              "Name: 11691, dtype: object"
            ]
          },
          "metadata": {},
          "execution_count": 162
        }
      ]
    },
    {
      "cell_type": "code",
      "source": [
        "dataset = dataset.drop(11691)"
      ],
      "metadata": {
        "id": "fQguZX29Wepd"
      },
      "execution_count": 163,
      "outputs": []
    },
    {
      "cell_type": "markdown",
      "source": [
        "<div>\n",
        "  <font color=\"yellow\" size=4.5>\n",
        "  Find columns that have a null value\n",
        "  </font>\n",
        "</div>"
      ],
      "metadata": {
        "id": "cMgDTTZzM6Q-"
      }
    },
    {
      "cell_type": "code",
      "source": [
        "columns = dataset.isna().sum()\n",
        "columns = dict(columns)\n",
        "columns_have_null_value = []\n",
        "for column_name, num_null_value in columns.items():\n",
        "  if num_null_value > 0:\n",
        "    columns_have_null_value.append(column_name)\n",
        "\n",
        "print(f\"all columns: {len(columns)}\")\n",
        "print(f\"columns that have a null value: {len(columns_have_null_value)}\")"
      ],
      "metadata": {
        "colab": {
          "base_uri": "https://localhost:8080/"
        },
        "id": "sePAQTHDL3KK",
        "outputId": "92e319a6-56f7-4505-b059-f383385035e1"
      },
      "execution_count": 164,
      "outputs": [
        {
          "output_type": "stream",
          "name": "stdout",
          "text": [
            "all columns: 22\n",
            "columns that have a null value: 5\n"
          ]
        }
      ]
    },
    {
      "cell_type": "markdown",
      "source": [
        "<div>\n",
        "  <font color=\"yellow\" size=4.5>\n",
        "  Replace data that value is \"Unknown\" with column mode (in Income column)\n",
        "  </font>\n",
        "</div>"
      ],
      "metadata": {
        "id": "7EHwQknW2SfA"
      }
    },
    {
      "cell_type": "code",
      "source": [
        "dataset[\"Income\"].replace('Unknown', dataset[\"Income\"].mode()[0], inplace=True)"
      ],
      "metadata": {
        "id": "dgPR8XxB3DsN"
      },
      "execution_count": 165,
      "outputs": []
    },
    {
      "cell_type": "markdown",
      "source": [
        "<div>\n",
        "  <font color=\"yellow\" size=4.5>\n",
        "  Replace missing data with column mode\n",
        "  </font>\n",
        "</div>\n"
      ],
      "metadata": {
        "id": "DONqvxbiNo5v"
      }
    },
    {
      "cell_type": "code",
      "source": [
        "for column_name in columns_have_null_value:\n",
        "  dataset[column_name].fillna(dataset[column_name].mode()[0], inplace=True)\n",
        "\n",
        "dataset.isna().sum()"
      ],
      "metadata": {
        "colab": {
          "base_uri": "https://localhost:8080/"
        },
        "id": "GPRrLTHLNFMr",
        "outputId": "20ffc1d8-5d6b-436c-974a-1e027e1ae393"
      },
      "execution_count": 166,
      "outputs": [
        {
          "output_type": "execute_result",
          "data": {
            "text/plain": [
              "Diabetes_binary              0\n",
              "HighBP                       0\n",
              "High_Cholesterol             0\n",
              "Cholesterol_Check            0\n",
              "BMI                          0\n",
              "Smoker                       0\n",
              "Stroke                       0\n",
              "HeartDiseaseorAttack         0\n",
              "Physical_Activity            0\n",
              "Fruits                       0\n",
              "Veggies                      0\n",
              "Heavy_Alcohol_Consumption    0\n",
              "Any_Health_Care              0\n",
              "No_Doctor_because_of_Cost    0\n",
              "General_Health               0\n",
              "Mental_Health                0\n",
              "Physical_Health              0\n",
              "Difficulty_Walking           0\n",
              "Sex                          0\n",
              "Age                          0\n",
              "Education                    0\n",
              "Income                       0\n",
              "dtype: int64"
            ]
          },
          "metadata": {},
          "execution_count": 166
        }
      ]
    },
    {
      "cell_type": "markdown",
      "source": [
        "## Normalization"
      ],
      "metadata": {
        "id": "1R0xQUJDXYtN"
      }
    },
    {
      "cell_type": "markdown",
      "source": [
        "<div>\n",
        "  <font color=\"yellow\" size=4.5>\n",
        "  Normalize columns: Age, Physical_Health, Mental_Health with MinMaxScaler\n",
        "  </font>\n",
        "</div>\n"
      ],
      "metadata": {
        "id": "GH-HxOv2XuCm"
      }
    },
    {
      "cell_type": "code",
      "source": [
        "dataset[\"Age\"].describe()\n"
      ],
      "metadata": {
        "colab": {
          "base_uri": "https://localhost:8080/"
        },
        "id": "2B1CUOT_Y1Ca",
        "outputId": "c6d4a634-07ad-4674-8799-c70c689cacdc"
      },
      "execution_count": 167,
      "outputs": [
        {
          "output_type": "execute_result",
          "data": {
            "text/plain": [
              "count    70691.000000\n",
              "mean         8.584105\n",
              "std          2.852141\n",
              "min          1.000000\n",
              "25%          7.000000\n",
              "50%          9.000000\n",
              "75%         11.000000\n",
              "max         13.000000\n",
              "Name: Age, dtype: float64"
            ]
          },
          "metadata": {},
          "execution_count": 167
        }
      ]
    },
    {
      "cell_type": "code",
      "source": [
        "dataset[\"Physical_Health\"].describe()"
      ],
      "metadata": {
        "colab": {
          "base_uri": "https://localhost:8080/"
        },
        "id": "3lmaNsssZNZg",
        "outputId": "8fc7ae1f-d946-4055-caa7-b5944602e420"
      },
      "execution_count": 168,
      "outputs": [
        {
          "output_type": "execute_result",
          "data": {
            "text/plain": [
              "count    70691.000000\n",
              "mean         5.810499\n",
              "std         10.062308\n",
              "min          0.000000\n",
              "25%          0.000000\n",
              "50%          0.000000\n",
              "75%          6.000000\n",
              "max         30.000000\n",
              "Name: Physical_Health, dtype: float64"
            ]
          },
          "metadata": {},
          "execution_count": 168
        }
      ]
    },
    {
      "cell_type": "code",
      "source": [
        "dataset[\"Mental_Health\"].describe()"
      ],
      "metadata": {
        "colab": {
          "base_uri": "https://localhost:8080/"
        },
        "id": "wImUxdrYZNkS",
        "outputId": "030c362d-8af4-4ef3-d135-ac67247dbd1d"
      },
      "execution_count": 169,
      "outputs": [
        {
          "output_type": "execute_result",
          "data": {
            "text/plain": [
              "count    70691.000000\n",
              "mean         3.752062\n",
              "std          8.155682\n",
              "min          0.000000\n",
              "25%          0.000000\n",
              "50%          0.000000\n",
              "75%          2.000000\n",
              "max         30.000000\n",
              "Name: Mental_Health, dtype: float64"
            ]
          },
          "metadata": {},
          "execution_count": 169
        }
      ]
    },
    {
      "cell_type": "code",
      "source": [
        "min_max_scaler = MinMaxScaler()\n",
        "dataset[[\"Age\", \"Physical_Health\", \"Mental_Health\"]] = min_max_scaler.fit_transform(dataset[[\"Age\", \"Physical_Health\", \"Mental_Health\"]])"
      ],
      "metadata": {
        "id": "G60C--WlXstu"
      },
      "execution_count": 170,
      "outputs": []
    },
    {
      "cell_type": "code",
      "source": [
        "dataset[\"Age\"].describe()"
      ],
      "metadata": {
        "colab": {
          "base_uri": "https://localhost:8080/"
        },
        "id": "yoBn-lj_Yvq_",
        "outputId": "37da90d2-aede-4a28-fc4e-bad0632e5dd4"
      },
      "execution_count": 171,
      "outputs": [
        {
          "output_type": "execute_result",
          "data": {
            "text/plain": [
              "count    70691.000000\n",
              "mean         0.632009\n",
              "std          0.237678\n",
              "min          0.000000\n",
              "25%          0.500000\n",
              "50%          0.666667\n",
              "75%          0.833333\n",
              "max          1.000000\n",
              "Name: Age, dtype: float64"
            ]
          },
          "metadata": {},
          "execution_count": 171
        }
      ]
    },
    {
      "cell_type": "code",
      "source": [
        "dataset[\"Physical_Health\"].describe()"
      ],
      "metadata": {
        "colab": {
          "base_uri": "https://localhost:8080/"
        },
        "id": "swa6pxepZhwl",
        "outputId": "22149a4c-4fff-4fde-93e7-e756386bd367"
      },
      "execution_count": 172,
      "outputs": [
        {
          "output_type": "execute_result",
          "data": {
            "text/plain": [
              "count    70691.000000\n",
              "mean         0.193683\n",
              "std          0.335410\n",
              "min          0.000000\n",
              "25%          0.000000\n",
              "50%          0.000000\n",
              "75%          0.200000\n",
              "max          1.000000\n",
              "Name: Physical_Health, dtype: float64"
            ]
          },
          "metadata": {},
          "execution_count": 172
        }
      ]
    },
    {
      "cell_type": "code",
      "source": [
        "dataset[\"Mental_Health\"].describe()"
      ],
      "metadata": {
        "colab": {
          "base_uri": "https://localhost:8080/"
        },
        "id": "I3fFuclWZh6B",
        "outputId": "834d7d55-75fd-4b7a-fe94-8e44cca5f032"
      },
      "execution_count": 173,
      "outputs": [
        {
          "output_type": "execute_result",
          "data": {
            "text/plain": [
              "count    70691.000000\n",
              "mean         0.125069\n",
              "std          0.271856\n",
              "min          0.000000\n",
              "25%          0.000000\n",
              "50%          0.000000\n",
              "75%          0.066667\n",
              "max          1.000000\n",
              "Name: Mental_Health, dtype: float64"
            ]
          },
          "metadata": {},
          "execution_count": 173
        }
      ]
    },
    {
      "cell_type": "markdown",
      "source": [
        "<div>\n",
        "  <font color=\"yellow\" size=4.5>\n",
        "  Normalize BMI column\n",
        "  </font>\n",
        "</div>"
      ],
      "metadata": {
        "id": "V4Gtb1RpZsoL"
      }
    },
    {
      "cell_type": "markdown",
      "source": [
        "for BMI range check this[BMI](https://www.nhs.uk/common-health-questions/lifestyle/what-is-the-body-mass-index-bmi/#:~:text=BMI%20ranges&text=below%2018.5%20%E2%80%93%20you're%20in,re%20in%20the%20obese%20range)"
      ],
      "metadata": {
        "id": "mHWdxXbJaGr3"
      }
    },
    {
      "cell_type": "code",
      "source": [
        "dataset[\"BMI\"] = pd.cut(dataset[\"BMI\"], bins=[0, 18.5, 24.9, 29.9, 100], labels=[\"underweight\", \"healthy\", \"overweight\", \"obese\"])\n",
        "dataset[\"BMI\"].describe"
      ],
      "metadata": {
        "colab": {
          "base_uri": "https://localhost:8080/"
        },
        "id": "l8Gg4TtaZoHl",
        "outputId": "c3da428a-2c61-4ee4-ce56-a49688f47d9a"
      },
      "execution_count": 174,
      "outputs": [
        {
          "output_type": "execute_result",
          "data": {
            "text/plain": [
              "<bound method NDFrame.describe of 0         overweight\n",
              "1         overweight\n",
              "2         overweight\n",
              "3         overweight\n",
              "4         overweight\n",
              "            ...     \n",
              "70687          obese\n",
              "70688     overweight\n",
              "70689     overweight\n",
              "70690    underweight\n",
              "70691     overweight\n",
              "Name: BMI, Length: 70691, dtype: category\n",
              "Categories (4, object): ['underweight' < 'healthy' < 'overweight' < 'obese']>"
            ]
          },
          "metadata": {},
          "execution_count": 174
        }
      ]
    },
    {
      "cell_type": "code",
      "source": [
        "dataset"
      ],
      "metadata": {
        "colab": {
          "base_uri": "https://localhost:8080/",
          "height": 488
        },
        "id": "9qihl3IXcFeF",
        "outputId": "98383796-79a6-4137-8cf7-21043ca53dbb"
      },
      "execution_count": 175,
      "outputs": [
        {
          "output_type": "execute_result",
          "data": {
            "text/plain": [
              "       Diabetes_binary  HighBP  High_Cholesterol  Cholesterol_Check  \\\n",
              "0                  0.0     1.0               0.0                1.0   \n",
              "1                  0.0     1.0               1.0                1.0   \n",
              "2                  0.0     0.0               0.0                1.0   \n",
              "3                  0.0     1.0               1.0                1.0   \n",
              "4                  0.0     0.0               0.0                1.0   \n",
              "...                ...     ...               ...                ...   \n",
              "70687              1.0     0.0               1.0                1.0   \n",
              "70688              1.0     0.0               1.0                1.0   \n",
              "70689              1.0     1.0               1.0                1.0   \n",
              "70690              1.0     1.0               1.0                1.0   \n",
              "70691              1.0     1.0               1.0                1.0   \n",
              "\n",
              "               BMI  Smoker  Stroke  HeartDiseaseorAttack  Physical_Activity  \\\n",
              "0       overweight     0.0     0.0                   0.0                1.0   \n",
              "1       overweight     1.0     1.0                   0.0                0.0   \n",
              "2       overweight     0.0     0.0                   0.0                1.0   \n",
              "3       overweight     1.0     0.0                   0.0                1.0   \n",
              "4       overweight     1.0     0.0                   0.0                1.0   \n",
              "...            ...     ...     ...                   ...                ...   \n",
              "70687        obese     0.0     0.0                   0.0                0.0   \n",
              "70688   overweight     1.0     0.0                   1.0                0.0   \n",
              "70689   overweight     0.0     0.0                   1.0                0.0   \n",
              "70690  underweight     0.0     0.0                   0.0                0.0   \n",
              "70691   overweight     0.0     0.0                   1.0                1.0   \n",
              "\n",
              "       Fruits  ...  Any_Health_Care  No_Doctor_because_of_Cost  \\\n",
              "0         0.0  ...              1.0                        0.0   \n",
              "1         1.0  ...              1.0                        0.0   \n",
              "2         1.0  ...              1.0                        0.0   \n",
              "3         1.0  ...              1.0                        0.0   \n",
              "4         1.0  ...              1.0                        0.0   \n",
              "...       ...  ...              ...                        ...   \n",
              "70687     0.0  ...              1.0                        0.0   \n",
              "70688     1.0  ...              1.0                        0.0   \n",
              "70689     1.0  ...              1.0                        0.0   \n",
              "70690     0.0  ...              1.0                        0.0   \n",
              "70691     1.0  ...              1.0                        0.0   \n",
              "\n",
              "       General_Health  Mental_Health Physical_Health  Difficulty_Walking  \\\n",
              "0              Medium       0.166667        1.000000                 0.0   \n",
              "1              Medium       0.000000        0.000000                 0.0   \n",
              "2                High       0.000000        0.333333                 0.0   \n",
              "3              Medium       0.000000        0.100000                 0.0   \n",
              "4                Good       0.000000        0.000000                 0.0   \n",
              "...               ...            ...             ...                 ...   \n",
              "70687             Low       0.000000        0.000000                 0.0   \n",
              "70688            Good       0.000000        0.000000                 1.0   \n",
              "70689        Very_Low       0.500000        0.000000                 1.0   \n",
              "70690             Low       0.000000        0.000000                 1.0   \n",
              "70691            Good       0.000000        0.000000                 0.0   \n",
              "\n",
              "          Sex       Age Education  Income  \n",
              "0        male  0.250000      Cat6    Cat8  \n",
              "1        male  0.916667      Cat6    Cat8  \n",
              "2        male  1.000000      Cat6    Cat8  \n",
              "3        male  0.833333      Cat6    Cat8  \n",
              "4      female  0.583333      Cat5    Cat8  \n",
              "...       ...       ...       ...     ...  \n",
              "70687  female  0.416667      Cat4    Cat1  \n",
              "70688    male  0.750000      Cat3    Cat6  \n",
              "70689  female  1.000000      Cat6    Cat4  \n",
              "70690  female  0.833333      Cat2    Cat4  \n",
              "70691  female  0.666667      Cat6    Cat2  \n",
              "\n",
              "[70691 rows x 22 columns]"
            ],
            "text/html": [
              "\n",
              "  <div id=\"df-12eff683-5d19-4496-96ae-15db45808323\">\n",
              "    <div class=\"colab-df-container\">\n",
              "      <div>\n",
              "<style scoped>\n",
              "    .dataframe tbody tr th:only-of-type {\n",
              "        vertical-align: middle;\n",
              "    }\n",
              "\n",
              "    .dataframe tbody tr th {\n",
              "        vertical-align: top;\n",
              "    }\n",
              "\n",
              "    .dataframe thead th {\n",
              "        text-align: right;\n",
              "    }\n",
              "</style>\n",
              "<table border=\"1\" class=\"dataframe\">\n",
              "  <thead>\n",
              "    <tr style=\"text-align: right;\">\n",
              "      <th></th>\n",
              "      <th>Diabetes_binary</th>\n",
              "      <th>HighBP</th>\n",
              "      <th>High_Cholesterol</th>\n",
              "      <th>Cholesterol_Check</th>\n",
              "      <th>BMI</th>\n",
              "      <th>Smoker</th>\n",
              "      <th>Stroke</th>\n",
              "      <th>HeartDiseaseorAttack</th>\n",
              "      <th>Physical_Activity</th>\n",
              "      <th>Fruits</th>\n",
              "      <th>...</th>\n",
              "      <th>Any_Health_Care</th>\n",
              "      <th>No_Doctor_because_of_Cost</th>\n",
              "      <th>General_Health</th>\n",
              "      <th>Mental_Health</th>\n",
              "      <th>Physical_Health</th>\n",
              "      <th>Difficulty_Walking</th>\n",
              "      <th>Sex</th>\n",
              "      <th>Age</th>\n",
              "      <th>Education</th>\n",
              "      <th>Income</th>\n",
              "    </tr>\n",
              "  </thead>\n",
              "  <tbody>\n",
              "    <tr>\n",
              "      <th>0</th>\n",
              "      <td>0.0</td>\n",
              "      <td>1.0</td>\n",
              "      <td>0.0</td>\n",
              "      <td>1.0</td>\n",
              "      <td>overweight</td>\n",
              "      <td>0.0</td>\n",
              "      <td>0.0</td>\n",
              "      <td>0.0</td>\n",
              "      <td>1.0</td>\n",
              "      <td>0.0</td>\n",
              "      <td>...</td>\n",
              "      <td>1.0</td>\n",
              "      <td>0.0</td>\n",
              "      <td>Medium</td>\n",
              "      <td>0.166667</td>\n",
              "      <td>1.000000</td>\n",
              "      <td>0.0</td>\n",
              "      <td>male</td>\n",
              "      <td>0.250000</td>\n",
              "      <td>Cat6</td>\n",
              "      <td>Cat8</td>\n",
              "    </tr>\n",
              "    <tr>\n",
              "      <th>1</th>\n",
              "      <td>0.0</td>\n",
              "      <td>1.0</td>\n",
              "      <td>1.0</td>\n",
              "      <td>1.0</td>\n",
              "      <td>overweight</td>\n",
              "      <td>1.0</td>\n",
              "      <td>1.0</td>\n",
              "      <td>0.0</td>\n",
              "      <td>0.0</td>\n",
              "      <td>1.0</td>\n",
              "      <td>...</td>\n",
              "      <td>1.0</td>\n",
              "      <td>0.0</td>\n",
              "      <td>Medium</td>\n",
              "      <td>0.000000</td>\n",
              "      <td>0.000000</td>\n",
              "      <td>0.0</td>\n",
              "      <td>male</td>\n",
              "      <td>0.916667</td>\n",
              "      <td>Cat6</td>\n",
              "      <td>Cat8</td>\n",
              "    </tr>\n",
              "    <tr>\n",
              "      <th>2</th>\n",
              "      <td>0.0</td>\n",
              "      <td>0.0</td>\n",
              "      <td>0.0</td>\n",
              "      <td>1.0</td>\n",
              "      <td>overweight</td>\n",
              "      <td>0.0</td>\n",
              "      <td>0.0</td>\n",
              "      <td>0.0</td>\n",
              "      <td>1.0</td>\n",
              "      <td>1.0</td>\n",
              "      <td>...</td>\n",
              "      <td>1.0</td>\n",
              "      <td>0.0</td>\n",
              "      <td>High</td>\n",
              "      <td>0.000000</td>\n",
              "      <td>0.333333</td>\n",
              "      <td>0.0</td>\n",
              "      <td>male</td>\n",
              "      <td>1.000000</td>\n",
              "      <td>Cat6</td>\n",
              "      <td>Cat8</td>\n",
              "    </tr>\n",
              "    <tr>\n",
              "      <th>3</th>\n",
              "      <td>0.0</td>\n",
              "      <td>1.0</td>\n",
              "      <td>1.0</td>\n",
              "      <td>1.0</td>\n",
              "      <td>overweight</td>\n",
              "      <td>1.0</td>\n",
              "      <td>0.0</td>\n",
              "      <td>0.0</td>\n",
              "      <td>1.0</td>\n",
              "      <td>1.0</td>\n",
              "      <td>...</td>\n",
              "      <td>1.0</td>\n",
              "      <td>0.0</td>\n",
              "      <td>Medium</td>\n",
              "      <td>0.000000</td>\n",
              "      <td>0.100000</td>\n",
              "      <td>0.0</td>\n",
              "      <td>male</td>\n",
              "      <td>0.833333</td>\n",
              "      <td>Cat6</td>\n",
              "      <td>Cat8</td>\n",
              "    </tr>\n",
              "    <tr>\n",
              "      <th>4</th>\n",
              "      <td>0.0</td>\n",
              "      <td>0.0</td>\n",
              "      <td>0.0</td>\n",
              "      <td>1.0</td>\n",
              "      <td>overweight</td>\n",
              "      <td>1.0</td>\n",
              "      <td>0.0</td>\n",
              "      <td>0.0</td>\n",
              "      <td>1.0</td>\n",
              "      <td>1.0</td>\n",
              "      <td>...</td>\n",
              "      <td>1.0</td>\n",
              "      <td>0.0</td>\n",
              "      <td>Good</td>\n",
              "      <td>0.000000</td>\n",
              "      <td>0.000000</td>\n",
              "      <td>0.0</td>\n",
              "      <td>female</td>\n",
              "      <td>0.583333</td>\n",
              "      <td>Cat5</td>\n",
              "      <td>Cat8</td>\n",
              "    </tr>\n",
              "    <tr>\n",
              "      <th>...</th>\n",
              "      <td>...</td>\n",
              "      <td>...</td>\n",
              "      <td>...</td>\n",
              "      <td>...</td>\n",
              "      <td>...</td>\n",
              "      <td>...</td>\n",
              "      <td>...</td>\n",
              "      <td>...</td>\n",
              "      <td>...</td>\n",
              "      <td>...</td>\n",
              "      <td>...</td>\n",
              "      <td>...</td>\n",
              "      <td>...</td>\n",
              "      <td>...</td>\n",
              "      <td>...</td>\n",
              "      <td>...</td>\n",
              "      <td>...</td>\n",
              "      <td>...</td>\n",
              "      <td>...</td>\n",
              "      <td>...</td>\n",
              "      <td>...</td>\n",
              "    </tr>\n",
              "    <tr>\n",
              "      <th>70687</th>\n",
              "      <td>1.0</td>\n",
              "      <td>0.0</td>\n",
              "      <td>1.0</td>\n",
              "      <td>1.0</td>\n",
              "      <td>obese</td>\n",
              "      <td>0.0</td>\n",
              "      <td>0.0</td>\n",
              "      <td>0.0</td>\n",
              "      <td>0.0</td>\n",
              "      <td>0.0</td>\n",
              "      <td>...</td>\n",
              "      <td>1.0</td>\n",
              "      <td>0.0</td>\n",
              "      <td>Low</td>\n",
              "      <td>0.000000</td>\n",
              "      <td>0.000000</td>\n",
              "      <td>0.0</td>\n",
              "      <td>female</td>\n",
              "      <td>0.416667</td>\n",
              "      <td>Cat4</td>\n",
              "      <td>Cat1</td>\n",
              "    </tr>\n",
              "    <tr>\n",
              "      <th>70688</th>\n",
              "      <td>1.0</td>\n",
              "      <td>0.0</td>\n",
              "      <td>1.0</td>\n",
              "      <td>1.0</td>\n",
              "      <td>overweight</td>\n",
              "      <td>1.0</td>\n",
              "      <td>0.0</td>\n",
              "      <td>1.0</td>\n",
              "      <td>0.0</td>\n",
              "      <td>1.0</td>\n",
              "      <td>...</td>\n",
              "      <td>1.0</td>\n",
              "      <td>0.0</td>\n",
              "      <td>Good</td>\n",
              "      <td>0.000000</td>\n",
              "      <td>0.000000</td>\n",
              "      <td>1.0</td>\n",
              "      <td>male</td>\n",
              "      <td>0.750000</td>\n",
              "      <td>Cat3</td>\n",
              "      <td>Cat6</td>\n",
              "    </tr>\n",
              "    <tr>\n",
              "      <th>70689</th>\n",
              "      <td>1.0</td>\n",
              "      <td>1.0</td>\n",
              "      <td>1.0</td>\n",
              "      <td>1.0</td>\n",
              "      <td>overweight</td>\n",
              "      <td>0.0</td>\n",
              "      <td>0.0</td>\n",
              "      <td>1.0</td>\n",
              "      <td>0.0</td>\n",
              "      <td>1.0</td>\n",
              "      <td>...</td>\n",
              "      <td>1.0</td>\n",
              "      <td>0.0</td>\n",
              "      <td>Very_Low</td>\n",
              "      <td>0.500000</td>\n",
              "      <td>0.000000</td>\n",
              "      <td>1.0</td>\n",
              "      <td>female</td>\n",
              "      <td>1.000000</td>\n",
              "      <td>Cat6</td>\n",
              "      <td>Cat4</td>\n",
              "    </tr>\n",
              "    <tr>\n",
              "      <th>70690</th>\n",
              "      <td>1.0</td>\n",
              "      <td>1.0</td>\n",
              "      <td>1.0</td>\n",
              "      <td>1.0</td>\n",
              "      <td>underweight</td>\n",
              "      <td>0.0</td>\n",
              "      <td>0.0</td>\n",
              "      <td>0.0</td>\n",
              "      <td>0.0</td>\n",
              "      <td>0.0</td>\n",
              "      <td>...</td>\n",
              "      <td>1.0</td>\n",
              "      <td>0.0</td>\n",
              "      <td>Low</td>\n",
              "      <td>0.000000</td>\n",
              "      <td>0.000000</td>\n",
              "      <td>1.0</td>\n",
              "      <td>female</td>\n",
              "      <td>0.833333</td>\n",
              "      <td>Cat2</td>\n",
              "      <td>Cat4</td>\n",
              "    </tr>\n",
              "    <tr>\n",
              "      <th>70691</th>\n",
              "      <td>1.0</td>\n",
              "      <td>1.0</td>\n",
              "      <td>1.0</td>\n",
              "      <td>1.0</td>\n",
              "      <td>overweight</td>\n",
              "      <td>0.0</td>\n",
              "      <td>0.0</td>\n",
              "      <td>1.0</td>\n",
              "      <td>1.0</td>\n",
              "      <td>1.0</td>\n",
              "      <td>...</td>\n",
              "      <td>1.0</td>\n",
              "      <td>0.0</td>\n",
              "      <td>Good</td>\n",
              "      <td>0.000000</td>\n",
              "      <td>0.000000</td>\n",
              "      <td>0.0</td>\n",
              "      <td>female</td>\n",
              "      <td>0.666667</td>\n",
              "      <td>Cat6</td>\n",
              "      <td>Cat2</td>\n",
              "    </tr>\n",
              "  </tbody>\n",
              "</table>\n",
              "<p>70691 rows × 22 columns</p>\n",
              "</div>\n",
              "      <button class=\"colab-df-convert\" onclick=\"convertToInteractive('df-12eff683-5d19-4496-96ae-15db45808323')\"\n",
              "              title=\"Convert this dataframe to an interactive table.\"\n",
              "              style=\"display:none;\">\n",
              "        \n",
              "  <svg xmlns=\"http://www.w3.org/2000/svg\" height=\"24px\"viewBox=\"0 0 24 24\"\n",
              "       width=\"24px\">\n",
              "    <path d=\"M0 0h24v24H0V0z\" fill=\"none\"/>\n",
              "    <path d=\"M18.56 5.44l.94 2.06.94-2.06 2.06-.94-2.06-.94-.94-2.06-.94 2.06-2.06.94zm-11 1L8.5 8.5l.94-2.06 2.06-.94-2.06-.94L8.5 2.5l-.94 2.06-2.06.94zm10 10l.94 2.06.94-2.06 2.06-.94-2.06-.94-.94-2.06-.94 2.06-2.06.94z\"/><path d=\"M17.41 7.96l-1.37-1.37c-.4-.4-.92-.59-1.43-.59-.52 0-1.04.2-1.43.59L10.3 9.45l-7.72 7.72c-.78.78-.78 2.05 0 2.83L4 21.41c.39.39.9.59 1.41.59.51 0 1.02-.2 1.41-.59l7.78-7.78 2.81-2.81c.8-.78.8-2.07 0-2.86zM5.41 20L4 18.59l7.72-7.72 1.47 1.35L5.41 20z\"/>\n",
              "  </svg>\n",
              "      </button>\n",
              "      \n",
              "  <style>\n",
              "    .colab-df-container {\n",
              "      display:flex;\n",
              "      flex-wrap:wrap;\n",
              "      gap: 12px;\n",
              "    }\n",
              "\n",
              "    .colab-df-convert {\n",
              "      background-color: #E8F0FE;\n",
              "      border: none;\n",
              "      border-radius: 50%;\n",
              "      cursor: pointer;\n",
              "      display: none;\n",
              "      fill: #1967D2;\n",
              "      height: 32px;\n",
              "      padding: 0 0 0 0;\n",
              "      width: 32px;\n",
              "    }\n",
              "\n",
              "    .colab-df-convert:hover {\n",
              "      background-color: #E2EBFA;\n",
              "      box-shadow: 0px 1px 2px rgba(60, 64, 67, 0.3), 0px 1px 3px 1px rgba(60, 64, 67, 0.15);\n",
              "      fill: #174EA6;\n",
              "    }\n",
              "\n",
              "    [theme=dark] .colab-df-convert {\n",
              "      background-color: #3B4455;\n",
              "      fill: #D2E3FC;\n",
              "    }\n",
              "\n",
              "    [theme=dark] .colab-df-convert:hover {\n",
              "      background-color: #434B5C;\n",
              "      box-shadow: 0px 1px 3px 1px rgba(0, 0, 0, 0.15);\n",
              "      filter: drop-shadow(0px 1px 2px rgba(0, 0, 0, 0.3));\n",
              "      fill: #FFFFFF;\n",
              "    }\n",
              "  </style>\n",
              "\n",
              "      <script>\n",
              "        const buttonEl =\n",
              "          document.querySelector('#df-12eff683-5d19-4496-96ae-15db45808323 button.colab-df-convert');\n",
              "        buttonEl.style.display =\n",
              "          google.colab.kernel.accessAllowed ? 'block' : 'none';\n",
              "\n",
              "        async function convertToInteractive(key) {\n",
              "          const element = document.querySelector('#df-12eff683-5d19-4496-96ae-15db45808323');\n",
              "          const dataTable =\n",
              "            await google.colab.kernel.invokeFunction('convertToInteractive',\n",
              "                                                     [key], {});\n",
              "          if (!dataTable) return;\n",
              "\n",
              "          const docLinkHtml = 'Like what you see? Visit the ' +\n",
              "            '<a target=\"_blank\" href=https://colab.research.google.com/notebooks/data_table.ipynb>data table notebook</a>'\n",
              "            + ' to learn more about interactive tables.';\n",
              "          element.innerHTML = '';\n",
              "          dataTable['output_type'] = 'display_data';\n",
              "          await google.colab.output.renderOutput(dataTable, element);\n",
              "          const docLink = document.createElement('div');\n",
              "          docLink.innerHTML = docLinkHtml;\n",
              "          element.appendChild(docLink);\n",
              "        }\n",
              "      </script>\n",
              "    </div>\n",
              "  </div>\n",
              "  "
            ]
          },
          "metadata": {},
          "execution_count": 175
        }
      ]
    },
    {
      "cell_type": "markdown",
      "source": [
        "## One-hot-encoding for categorical features"
      ],
      "metadata": {
        "id": "Z3l1LVaRz3Cj"
      }
    },
    {
      "cell_type": "code",
      "source": [
        "categorical_columns = [\"BMI\", \"General_Health\", \"Sex\", \"Education\", \"Income\"]\n",
        "for column in categorical_columns:\n",
        "  one_hot_encode = pd.get_dummies(dataset[column], prefix=column)\n",
        "  dataset = dataset.join(one_hot_encode)\n",
        "  dataset.drop(column, axis=1, inplace=True)\n",
        "\n",
        "dataset"
      ],
      "metadata": {
        "colab": {
          "base_uri": "https://localhost:8080/",
          "height": 488
        },
        "id": "zmRXc_ZWz_Pz",
        "outputId": "b80e82fc-674e-4e6e-9f5e-9ee901f7a596"
      },
      "execution_count": 176,
      "outputs": [
        {
          "output_type": "execute_result",
          "data": {
            "text/plain": [
              "       Diabetes_binary  HighBP  High_Cholesterol  Cholesterol_Check  Smoker  \\\n",
              "0                  0.0     1.0               0.0                1.0     0.0   \n",
              "1                  0.0     1.0               1.0                1.0     1.0   \n",
              "2                  0.0     0.0               0.0                1.0     0.0   \n",
              "3                  0.0     1.0               1.0                1.0     1.0   \n",
              "4                  0.0     0.0               0.0                1.0     1.0   \n",
              "...                ...     ...               ...                ...     ...   \n",
              "70687              1.0     0.0               1.0                1.0     0.0   \n",
              "70688              1.0     0.0               1.0                1.0     1.0   \n",
              "70689              1.0     1.0               1.0                1.0     0.0   \n",
              "70690              1.0     1.0               1.0                1.0     0.0   \n",
              "70691              1.0     1.0               1.0                1.0     0.0   \n",
              "\n",
              "       Stroke  HeartDiseaseorAttack  Physical_Activity  Fruits  Veggies  ...  \\\n",
              "0         0.0                   0.0                1.0     0.0      1.0  ...   \n",
              "1         1.0                   0.0                0.0     1.0      0.0  ...   \n",
              "2         0.0                   0.0                1.0     1.0      1.0  ...   \n",
              "3         0.0                   0.0                1.0     1.0      1.0  ...   \n",
              "4         0.0                   0.0                1.0     1.0      1.0  ...   \n",
              "...       ...                   ...                ...     ...      ...  ...   \n",
              "70687     0.0                   0.0                0.0     0.0      1.0  ...   \n",
              "70688     0.0                   1.0                0.0     1.0      1.0  ...   \n",
              "70689     0.0                   1.0                0.0     1.0      0.0  ...   \n",
              "70690     0.0                   0.0                0.0     0.0      0.0  ...   \n",
              "70691     0.0                   1.0                1.0     1.0      0.0  ...   \n",
              "\n",
              "       Education_Cat5  Education_Cat6  Income_Cat1  Income_Cat2  Income_Cat3  \\\n",
              "0                   0               1            0            0            0   \n",
              "1                   0               1            0            0            0   \n",
              "2                   0               1            0            0            0   \n",
              "3                   0               1            0            0            0   \n",
              "4                   1               0            0            0            0   \n",
              "...               ...             ...          ...          ...          ...   \n",
              "70687               0               0            1            0            0   \n",
              "70688               0               0            0            0            0   \n",
              "70689               0               1            0            0            0   \n",
              "70690               0               0            0            0            0   \n",
              "70691               0               1            0            1            0   \n",
              "\n",
              "       Income_Cat4  Income_Cat5  Income_Cat6  Income_Cat7  Income_Cat8  \n",
              "0                0            0            0            0            1  \n",
              "1                0            0            0            0            1  \n",
              "2                0            0            0            0            1  \n",
              "3                0            0            0            0            1  \n",
              "4                0            0            0            0            1  \n",
              "...            ...          ...          ...          ...          ...  \n",
              "70687            0            0            0            0            0  \n",
              "70688            0            0            1            0            0  \n",
              "70689            1            0            0            0            0  \n",
              "70690            1            0            0            0            0  \n",
              "70691            0            0            0            0            0  \n",
              "\n",
              "[70691 rows x 42 columns]"
            ],
            "text/html": [
              "\n",
              "  <div id=\"df-f3882b4b-ef68-4487-b62e-391dc779696a\">\n",
              "    <div class=\"colab-df-container\">\n",
              "      <div>\n",
              "<style scoped>\n",
              "    .dataframe tbody tr th:only-of-type {\n",
              "        vertical-align: middle;\n",
              "    }\n",
              "\n",
              "    .dataframe tbody tr th {\n",
              "        vertical-align: top;\n",
              "    }\n",
              "\n",
              "    .dataframe thead th {\n",
              "        text-align: right;\n",
              "    }\n",
              "</style>\n",
              "<table border=\"1\" class=\"dataframe\">\n",
              "  <thead>\n",
              "    <tr style=\"text-align: right;\">\n",
              "      <th></th>\n",
              "      <th>Diabetes_binary</th>\n",
              "      <th>HighBP</th>\n",
              "      <th>High_Cholesterol</th>\n",
              "      <th>Cholesterol_Check</th>\n",
              "      <th>Smoker</th>\n",
              "      <th>Stroke</th>\n",
              "      <th>HeartDiseaseorAttack</th>\n",
              "      <th>Physical_Activity</th>\n",
              "      <th>Fruits</th>\n",
              "      <th>Veggies</th>\n",
              "      <th>...</th>\n",
              "      <th>Education_Cat5</th>\n",
              "      <th>Education_Cat6</th>\n",
              "      <th>Income_Cat1</th>\n",
              "      <th>Income_Cat2</th>\n",
              "      <th>Income_Cat3</th>\n",
              "      <th>Income_Cat4</th>\n",
              "      <th>Income_Cat5</th>\n",
              "      <th>Income_Cat6</th>\n",
              "      <th>Income_Cat7</th>\n",
              "      <th>Income_Cat8</th>\n",
              "    </tr>\n",
              "  </thead>\n",
              "  <tbody>\n",
              "    <tr>\n",
              "      <th>0</th>\n",
              "      <td>0.0</td>\n",
              "      <td>1.0</td>\n",
              "      <td>0.0</td>\n",
              "      <td>1.0</td>\n",
              "      <td>0.0</td>\n",
              "      <td>0.0</td>\n",
              "      <td>0.0</td>\n",
              "      <td>1.0</td>\n",
              "      <td>0.0</td>\n",
              "      <td>1.0</td>\n",
              "      <td>...</td>\n",
              "      <td>0</td>\n",
              "      <td>1</td>\n",
              "      <td>0</td>\n",
              "      <td>0</td>\n",
              "      <td>0</td>\n",
              "      <td>0</td>\n",
              "      <td>0</td>\n",
              "      <td>0</td>\n",
              "      <td>0</td>\n",
              "      <td>1</td>\n",
              "    </tr>\n",
              "    <tr>\n",
              "      <th>1</th>\n",
              "      <td>0.0</td>\n",
              "      <td>1.0</td>\n",
              "      <td>1.0</td>\n",
              "      <td>1.0</td>\n",
              "      <td>1.0</td>\n",
              "      <td>1.0</td>\n",
              "      <td>0.0</td>\n",
              "      <td>0.0</td>\n",
              "      <td>1.0</td>\n",
              "      <td>0.0</td>\n",
              "      <td>...</td>\n",
              "      <td>0</td>\n",
              "      <td>1</td>\n",
              "      <td>0</td>\n",
              "      <td>0</td>\n",
              "      <td>0</td>\n",
              "      <td>0</td>\n",
              "      <td>0</td>\n",
              "      <td>0</td>\n",
              "      <td>0</td>\n",
              "      <td>1</td>\n",
              "    </tr>\n",
              "    <tr>\n",
              "      <th>2</th>\n",
              "      <td>0.0</td>\n",
              "      <td>0.0</td>\n",
              "      <td>0.0</td>\n",
              "      <td>1.0</td>\n",
              "      <td>0.0</td>\n",
              "      <td>0.0</td>\n",
              "      <td>0.0</td>\n",
              "      <td>1.0</td>\n",
              "      <td>1.0</td>\n",
              "      <td>1.0</td>\n",
              "      <td>...</td>\n",
              "      <td>0</td>\n",
              "      <td>1</td>\n",
              "      <td>0</td>\n",
              "      <td>0</td>\n",
              "      <td>0</td>\n",
              "      <td>0</td>\n",
              "      <td>0</td>\n",
              "      <td>0</td>\n",
              "      <td>0</td>\n",
              "      <td>1</td>\n",
              "    </tr>\n",
              "    <tr>\n",
              "      <th>3</th>\n",
              "      <td>0.0</td>\n",
              "      <td>1.0</td>\n",
              "      <td>1.0</td>\n",
              "      <td>1.0</td>\n",
              "      <td>1.0</td>\n",
              "      <td>0.0</td>\n",
              "      <td>0.0</td>\n",
              "      <td>1.0</td>\n",
              "      <td>1.0</td>\n",
              "      <td>1.0</td>\n",
              "      <td>...</td>\n",
              "      <td>0</td>\n",
              "      <td>1</td>\n",
              "      <td>0</td>\n",
              "      <td>0</td>\n",
              "      <td>0</td>\n",
              "      <td>0</td>\n",
              "      <td>0</td>\n",
              "      <td>0</td>\n",
              "      <td>0</td>\n",
              "      <td>1</td>\n",
              "    </tr>\n",
              "    <tr>\n",
              "      <th>4</th>\n",
              "      <td>0.0</td>\n",
              "      <td>0.0</td>\n",
              "      <td>0.0</td>\n",
              "      <td>1.0</td>\n",
              "      <td>1.0</td>\n",
              "      <td>0.0</td>\n",
              "      <td>0.0</td>\n",
              "      <td>1.0</td>\n",
              "      <td>1.0</td>\n",
              "      <td>1.0</td>\n",
              "      <td>...</td>\n",
              "      <td>1</td>\n",
              "      <td>0</td>\n",
              "      <td>0</td>\n",
              "      <td>0</td>\n",
              "      <td>0</td>\n",
              "      <td>0</td>\n",
              "      <td>0</td>\n",
              "      <td>0</td>\n",
              "      <td>0</td>\n",
              "      <td>1</td>\n",
              "    </tr>\n",
              "    <tr>\n",
              "      <th>...</th>\n",
              "      <td>...</td>\n",
              "      <td>...</td>\n",
              "      <td>...</td>\n",
              "      <td>...</td>\n",
              "      <td>...</td>\n",
              "      <td>...</td>\n",
              "      <td>...</td>\n",
              "      <td>...</td>\n",
              "      <td>...</td>\n",
              "      <td>...</td>\n",
              "      <td>...</td>\n",
              "      <td>...</td>\n",
              "      <td>...</td>\n",
              "      <td>...</td>\n",
              "      <td>...</td>\n",
              "      <td>...</td>\n",
              "      <td>...</td>\n",
              "      <td>...</td>\n",
              "      <td>...</td>\n",
              "      <td>...</td>\n",
              "      <td>...</td>\n",
              "    </tr>\n",
              "    <tr>\n",
              "      <th>70687</th>\n",
              "      <td>1.0</td>\n",
              "      <td>0.0</td>\n",
              "      <td>1.0</td>\n",
              "      <td>1.0</td>\n",
              "      <td>0.0</td>\n",
              "      <td>0.0</td>\n",
              "      <td>0.0</td>\n",
              "      <td>0.0</td>\n",
              "      <td>0.0</td>\n",
              "      <td>1.0</td>\n",
              "      <td>...</td>\n",
              "      <td>0</td>\n",
              "      <td>0</td>\n",
              "      <td>1</td>\n",
              "      <td>0</td>\n",
              "      <td>0</td>\n",
              "      <td>0</td>\n",
              "      <td>0</td>\n",
              "      <td>0</td>\n",
              "      <td>0</td>\n",
              "      <td>0</td>\n",
              "    </tr>\n",
              "    <tr>\n",
              "      <th>70688</th>\n",
              "      <td>1.0</td>\n",
              "      <td>0.0</td>\n",
              "      <td>1.0</td>\n",
              "      <td>1.0</td>\n",
              "      <td>1.0</td>\n",
              "      <td>0.0</td>\n",
              "      <td>1.0</td>\n",
              "      <td>0.0</td>\n",
              "      <td>1.0</td>\n",
              "      <td>1.0</td>\n",
              "      <td>...</td>\n",
              "      <td>0</td>\n",
              "      <td>0</td>\n",
              "      <td>0</td>\n",
              "      <td>0</td>\n",
              "      <td>0</td>\n",
              "      <td>0</td>\n",
              "      <td>0</td>\n",
              "      <td>1</td>\n",
              "      <td>0</td>\n",
              "      <td>0</td>\n",
              "    </tr>\n",
              "    <tr>\n",
              "      <th>70689</th>\n",
              "      <td>1.0</td>\n",
              "      <td>1.0</td>\n",
              "      <td>1.0</td>\n",
              "      <td>1.0</td>\n",
              "      <td>0.0</td>\n",
              "      <td>0.0</td>\n",
              "      <td>1.0</td>\n",
              "      <td>0.0</td>\n",
              "      <td>1.0</td>\n",
              "      <td>0.0</td>\n",
              "      <td>...</td>\n",
              "      <td>0</td>\n",
              "      <td>1</td>\n",
              "      <td>0</td>\n",
              "      <td>0</td>\n",
              "      <td>0</td>\n",
              "      <td>1</td>\n",
              "      <td>0</td>\n",
              "      <td>0</td>\n",
              "      <td>0</td>\n",
              "      <td>0</td>\n",
              "    </tr>\n",
              "    <tr>\n",
              "      <th>70690</th>\n",
              "      <td>1.0</td>\n",
              "      <td>1.0</td>\n",
              "      <td>1.0</td>\n",
              "      <td>1.0</td>\n",
              "      <td>0.0</td>\n",
              "      <td>0.0</td>\n",
              "      <td>0.0</td>\n",
              "      <td>0.0</td>\n",
              "      <td>0.0</td>\n",
              "      <td>0.0</td>\n",
              "      <td>...</td>\n",
              "      <td>0</td>\n",
              "      <td>0</td>\n",
              "      <td>0</td>\n",
              "      <td>0</td>\n",
              "      <td>0</td>\n",
              "      <td>1</td>\n",
              "      <td>0</td>\n",
              "      <td>0</td>\n",
              "      <td>0</td>\n",
              "      <td>0</td>\n",
              "    </tr>\n",
              "    <tr>\n",
              "      <th>70691</th>\n",
              "      <td>1.0</td>\n",
              "      <td>1.0</td>\n",
              "      <td>1.0</td>\n",
              "      <td>1.0</td>\n",
              "      <td>0.0</td>\n",
              "      <td>0.0</td>\n",
              "      <td>1.0</td>\n",
              "      <td>1.0</td>\n",
              "      <td>1.0</td>\n",
              "      <td>0.0</td>\n",
              "      <td>...</td>\n",
              "      <td>0</td>\n",
              "      <td>1</td>\n",
              "      <td>0</td>\n",
              "      <td>1</td>\n",
              "      <td>0</td>\n",
              "      <td>0</td>\n",
              "      <td>0</td>\n",
              "      <td>0</td>\n",
              "      <td>0</td>\n",
              "      <td>0</td>\n",
              "    </tr>\n",
              "  </tbody>\n",
              "</table>\n",
              "<p>70691 rows × 42 columns</p>\n",
              "</div>\n",
              "      <button class=\"colab-df-convert\" onclick=\"convertToInteractive('df-f3882b4b-ef68-4487-b62e-391dc779696a')\"\n",
              "              title=\"Convert this dataframe to an interactive table.\"\n",
              "              style=\"display:none;\">\n",
              "        \n",
              "  <svg xmlns=\"http://www.w3.org/2000/svg\" height=\"24px\"viewBox=\"0 0 24 24\"\n",
              "       width=\"24px\">\n",
              "    <path d=\"M0 0h24v24H0V0z\" fill=\"none\"/>\n",
              "    <path d=\"M18.56 5.44l.94 2.06.94-2.06 2.06-.94-2.06-.94-.94-2.06-.94 2.06-2.06.94zm-11 1L8.5 8.5l.94-2.06 2.06-.94-2.06-.94L8.5 2.5l-.94 2.06-2.06.94zm10 10l.94 2.06.94-2.06 2.06-.94-2.06-.94-.94-2.06-.94 2.06-2.06.94z\"/><path d=\"M17.41 7.96l-1.37-1.37c-.4-.4-.92-.59-1.43-.59-.52 0-1.04.2-1.43.59L10.3 9.45l-7.72 7.72c-.78.78-.78 2.05 0 2.83L4 21.41c.39.39.9.59 1.41.59.51 0 1.02-.2 1.41-.59l7.78-7.78 2.81-2.81c.8-.78.8-2.07 0-2.86zM5.41 20L4 18.59l7.72-7.72 1.47 1.35L5.41 20z\"/>\n",
              "  </svg>\n",
              "      </button>\n",
              "      \n",
              "  <style>\n",
              "    .colab-df-container {\n",
              "      display:flex;\n",
              "      flex-wrap:wrap;\n",
              "      gap: 12px;\n",
              "    }\n",
              "\n",
              "    .colab-df-convert {\n",
              "      background-color: #E8F0FE;\n",
              "      border: none;\n",
              "      border-radius: 50%;\n",
              "      cursor: pointer;\n",
              "      display: none;\n",
              "      fill: #1967D2;\n",
              "      height: 32px;\n",
              "      padding: 0 0 0 0;\n",
              "      width: 32px;\n",
              "    }\n",
              "\n",
              "    .colab-df-convert:hover {\n",
              "      background-color: #E2EBFA;\n",
              "      box-shadow: 0px 1px 2px rgba(60, 64, 67, 0.3), 0px 1px 3px 1px rgba(60, 64, 67, 0.15);\n",
              "      fill: #174EA6;\n",
              "    }\n",
              "\n",
              "    [theme=dark] .colab-df-convert {\n",
              "      background-color: #3B4455;\n",
              "      fill: #D2E3FC;\n",
              "    }\n",
              "\n",
              "    [theme=dark] .colab-df-convert:hover {\n",
              "      background-color: #434B5C;\n",
              "      box-shadow: 0px 1px 3px 1px rgba(0, 0, 0, 0.15);\n",
              "      filter: drop-shadow(0px 1px 2px rgba(0, 0, 0, 0.3));\n",
              "      fill: #FFFFFF;\n",
              "    }\n",
              "  </style>\n",
              "\n",
              "      <script>\n",
              "        const buttonEl =\n",
              "          document.querySelector('#df-f3882b4b-ef68-4487-b62e-391dc779696a button.colab-df-convert');\n",
              "        buttonEl.style.display =\n",
              "          google.colab.kernel.accessAllowed ? 'block' : 'none';\n",
              "\n",
              "        async function convertToInteractive(key) {\n",
              "          const element = document.querySelector('#df-f3882b4b-ef68-4487-b62e-391dc779696a');\n",
              "          const dataTable =\n",
              "            await google.colab.kernel.invokeFunction('convertToInteractive',\n",
              "                                                     [key], {});\n",
              "          if (!dataTable) return;\n",
              "\n",
              "          const docLinkHtml = 'Like what you see? Visit the ' +\n",
              "            '<a target=\"_blank\" href=https://colab.research.google.com/notebooks/data_table.ipynb>data table notebook</a>'\n",
              "            + ' to learn more about interactive tables.';\n",
              "          element.innerHTML = '';\n",
              "          dataTable['output_type'] = 'display_data';\n",
              "          await google.colab.output.renderOutput(dataTable, element);\n",
              "          const docLink = document.createElement('div');\n",
              "          docLink.innerHTML = docLinkHtml;\n",
              "          element.appendChild(docLink);\n",
              "        }\n",
              "      </script>\n",
              "    </div>\n",
              "  </div>\n",
              "  "
            ]
          },
          "metadata": {},
          "execution_count": 176
        }
      ]
    },
    {
      "cell_type": "markdown",
      "source": [
        "## Split labels from features"
      ],
      "metadata": {
        "id": "ZxZPVGDc3yPV"
      }
    },
    {
      "cell_type": "code",
      "source": [
        "labels = dataset[\"Diabetes_binary\"]\n",
        "dataset.drop(\"Diabetes_binary\", axis=1, inplace=True)\n",
        "dataset"
      ],
      "metadata": {
        "colab": {
          "base_uri": "https://localhost:8080/",
          "height": 488
        },
        "id": "ZX2V7Ogn3yY_",
        "outputId": "5e40e4da-6bfa-4083-db78-4cef1dd7f6de"
      },
      "execution_count": 177,
      "outputs": [
        {
          "output_type": "execute_result",
          "data": {
            "text/plain": [
              "       HighBP  High_Cholesterol  Cholesterol_Check  Smoker  Stroke  \\\n",
              "0         1.0               0.0                1.0     0.0     0.0   \n",
              "1         1.0               1.0                1.0     1.0     1.0   \n",
              "2         0.0               0.0                1.0     0.0     0.0   \n",
              "3         1.0               1.0                1.0     1.0     0.0   \n",
              "4         0.0               0.0                1.0     1.0     0.0   \n",
              "...       ...               ...                ...     ...     ...   \n",
              "70687     0.0               1.0                1.0     0.0     0.0   \n",
              "70688     0.0               1.0                1.0     1.0     0.0   \n",
              "70689     1.0               1.0                1.0     0.0     0.0   \n",
              "70690     1.0               1.0                1.0     0.0     0.0   \n",
              "70691     1.0               1.0                1.0     0.0     0.0   \n",
              "\n",
              "       HeartDiseaseorAttack  Physical_Activity  Fruits  Veggies  \\\n",
              "0                       0.0                1.0     0.0      1.0   \n",
              "1                       0.0                0.0     1.0      0.0   \n",
              "2                       0.0                1.0     1.0      1.0   \n",
              "3                       0.0                1.0     1.0      1.0   \n",
              "4                       0.0                1.0     1.0      1.0   \n",
              "...                     ...                ...     ...      ...   \n",
              "70687                   0.0                0.0     0.0      1.0   \n",
              "70688                   1.0                0.0     1.0      1.0   \n",
              "70689                   1.0                0.0     1.0      0.0   \n",
              "70690                   0.0                0.0     0.0      0.0   \n",
              "70691                   1.0                1.0     1.0      0.0   \n",
              "\n",
              "       Heavy_Alcohol_Consumption  ...  Education_Cat5  Education_Cat6  \\\n",
              "0                            0.0  ...               0               1   \n",
              "1                            0.0  ...               0               1   \n",
              "2                            0.0  ...               0               1   \n",
              "3                            0.0  ...               0               1   \n",
              "4                            0.0  ...               1               0   \n",
              "...                          ...  ...             ...             ...   \n",
              "70687                        0.0  ...               0               0   \n",
              "70688                        0.0  ...               0               0   \n",
              "70689                        0.0  ...               0               1   \n",
              "70690                        0.0  ...               0               0   \n",
              "70691                        0.0  ...               0               1   \n",
              "\n",
              "       Income_Cat1  Income_Cat2  Income_Cat3  Income_Cat4  Income_Cat5  \\\n",
              "0                0            0            0            0            0   \n",
              "1                0            0            0            0            0   \n",
              "2                0            0            0            0            0   \n",
              "3                0            0            0            0            0   \n",
              "4                0            0            0            0            0   \n",
              "...            ...          ...          ...          ...          ...   \n",
              "70687            1            0            0            0            0   \n",
              "70688            0            0            0            0            0   \n",
              "70689            0            0            0            1            0   \n",
              "70690            0            0            0            1            0   \n",
              "70691            0            1            0            0            0   \n",
              "\n",
              "       Income_Cat6  Income_Cat7  Income_Cat8  \n",
              "0                0            0            1  \n",
              "1                0            0            1  \n",
              "2                0            0            1  \n",
              "3                0            0            1  \n",
              "4                0            0            1  \n",
              "...            ...          ...          ...  \n",
              "70687            0            0            0  \n",
              "70688            1            0            0  \n",
              "70689            0            0            0  \n",
              "70690            0            0            0  \n",
              "70691            0            0            0  \n",
              "\n",
              "[70691 rows x 41 columns]"
            ],
            "text/html": [
              "\n",
              "  <div id=\"df-5cfb8655-022f-46ea-9ce8-3cf5d1e2dedb\">\n",
              "    <div class=\"colab-df-container\">\n",
              "      <div>\n",
              "<style scoped>\n",
              "    .dataframe tbody tr th:only-of-type {\n",
              "        vertical-align: middle;\n",
              "    }\n",
              "\n",
              "    .dataframe tbody tr th {\n",
              "        vertical-align: top;\n",
              "    }\n",
              "\n",
              "    .dataframe thead th {\n",
              "        text-align: right;\n",
              "    }\n",
              "</style>\n",
              "<table border=\"1\" class=\"dataframe\">\n",
              "  <thead>\n",
              "    <tr style=\"text-align: right;\">\n",
              "      <th></th>\n",
              "      <th>HighBP</th>\n",
              "      <th>High_Cholesterol</th>\n",
              "      <th>Cholesterol_Check</th>\n",
              "      <th>Smoker</th>\n",
              "      <th>Stroke</th>\n",
              "      <th>HeartDiseaseorAttack</th>\n",
              "      <th>Physical_Activity</th>\n",
              "      <th>Fruits</th>\n",
              "      <th>Veggies</th>\n",
              "      <th>Heavy_Alcohol_Consumption</th>\n",
              "      <th>...</th>\n",
              "      <th>Education_Cat5</th>\n",
              "      <th>Education_Cat6</th>\n",
              "      <th>Income_Cat1</th>\n",
              "      <th>Income_Cat2</th>\n",
              "      <th>Income_Cat3</th>\n",
              "      <th>Income_Cat4</th>\n",
              "      <th>Income_Cat5</th>\n",
              "      <th>Income_Cat6</th>\n",
              "      <th>Income_Cat7</th>\n",
              "      <th>Income_Cat8</th>\n",
              "    </tr>\n",
              "  </thead>\n",
              "  <tbody>\n",
              "    <tr>\n",
              "      <th>0</th>\n",
              "      <td>1.0</td>\n",
              "      <td>0.0</td>\n",
              "      <td>1.0</td>\n",
              "      <td>0.0</td>\n",
              "      <td>0.0</td>\n",
              "      <td>0.0</td>\n",
              "      <td>1.0</td>\n",
              "      <td>0.0</td>\n",
              "      <td>1.0</td>\n",
              "      <td>0.0</td>\n",
              "      <td>...</td>\n",
              "      <td>0</td>\n",
              "      <td>1</td>\n",
              "      <td>0</td>\n",
              "      <td>0</td>\n",
              "      <td>0</td>\n",
              "      <td>0</td>\n",
              "      <td>0</td>\n",
              "      <td>0</td>\n",
              "      <td>0</td>\n",
              "      <td>1</td>\n",
              "    </tr>\n",
              "    <tr>\n",
              "      <th>1</th>\n",
              "      <td>1.0</td>\n",
              "      <td>1.0</td>\n",
              "      <td>1.0</td>\n",
              "      <td>1.0</td>\n",
              "      <td>1.0</td>\n",
              "      <td>0.0</td>\n",
              "      <td>0.0</td>\n",
              "      <td>1.0</td>\n",
              "      <td>0.0</td>\n",
              "      <td>0.0</td>\n",
              "      <td>...</td>\n",
              "      <td>0</td>\n",
              "      <td>1</td>\n",
              "      <td>0</td>\n",
              "      <td>0</td>\n",
              "      <td>0</td>\n",
              "      <td>0</td>\n",
              "      <td>0</td>\n",
              "      <td>0</td>\n",
              "      <td>0</td>\n",
              "      <td>1</td>\n",
              "    </tr>\n",
              "    <tr>\n",
              "      <th>2</th>\n",
              "      <td>0.0</td>\n",
              "      <td>0.0</td>\n",
              "      <td>1.0</td>\n",
              "      <td>0.0</td>\n",
              "      <td>0.0</td>\n",
              "      <td>0.0</td>\n",
              "      <td>1.0</td>\n",
              "      <td>1.0</td>\n",
              "      <td>1.0</td>\n",
              "      <td>0.0</td>\n",
              "      <td>...</td>\n",
              "      <td>0</td>\n",
              "      <td>1</td>\n",
              "      <td>0</td>\n",
              "      <td>0</td>\n",
              "      <td>0</td>\n",
              "      <td>0</td>\n",
              "      <td>0</td>\n",
              "      <td>0</td>\n",
              "      <td>0</td>\n",
              "      <td>1</td>\n",
              "    </tr>\n",
              "    <tr>\n",
              "      <th>3</th>\n",
              "      <td>1.0</td>\n",
              "      <td>1.0</td>\n",
              "      <td>1.0</td>\n",
              "      <td>1.0</td>\n",
              "      <td>0.0</td>\n",
              "      <td>0.0</td>\n",
              "      <td>1.0</td>\n",
              "      <td>1.0</td>\n",
              "      <td>1.0</td>\n",
              "      <td>0.0</td>\n",
              "      <td>...</td>\n",
              "      <td>0</td>\n",
              "      <td>1</td>\n",
              "      <td>0</td>\n",
              "      <td>0</td>\n",
              "      <td>0</td>\n",
              "      <td>0</td>\n",
              "      <td>0</td>\n",
              "      <td>0</td>\n",
              "      <td>0</td>\n",
              "      <td>1</td>\n",
              "    </tr>\n",
              "    <tr>\n",
              "      <th>4</th>\n",
              "      <td>0.0</td>\n",
              "      <td>0.0</td>\n",
              "      <td>1.0</td>\n",
              "      <td>1.0</td>\n",
              "      <td>0.0</td>\n",
              "      <td>0.0</td>\n",
              "      <td>1.0</td>\n",
              "      <td>1.0</td>\n",
              "      <td>1.0</td>\n",
              "      <td>0.0</td>\n",
              "      <td>...</td>\n",
              "      <td>1</td>\n",
              "      <td>0</td>\n",
              "      <td>0</td>\n",
              "      <td>0</td>\n",
              "      <td>0</td>\n",
              "      <td>0</td>\n",
              "      <td>0</td>\n",
              "      <td>0</td>\n",
              "      <td>0</td>\n",
              "      <td>1</td>\n",
              "    </tr>\n",
              "    <tr>\n",
              "      <th>...</th>\n",
              "      <td>...</td>\n",
              "      <td>...</td>\n",
              "      <td>...</td>\n",
              "      <td>...</td>\n",
              "      <td>...</td>\n",
              "      <td>...</td>\n",
              "      <td>...</td>\n",
              "      <td>...</td>\n",
              "      <td>...</td>\n",
              "      <td>...</td>\n",
              "      <td>...</td>\n",
              "      <td>...</td>\n",
              "      <td>...</td>\n",
              "      <td>...</td>\n",
              "      <td>...</td>\n",
              "      <td>...</td>\n",
              "      <td>...</td>\n",
              "      <td>...</td>\n",
              "      <td>...</td>\n",
              "      <td>...</td>\n",
              "      <td>...</td>\n",
              "    </tr>\n",
              "    <tr>\n",
              "      <th>70687</th>\n",
              "      <td>0.0</td>\n",
              "      <td>1.0</td>\n",
              "      <td>1.0</td>\n",
              "      <td>0.0</td>\n",
              "      <td>0.0</td>\n",
              "      <td>0.0</td>\n",
              "      <td>0.0</td>\n",
              "      <td>0.0</td>\n",
              "      <td>1.0</td>\n",
              "      <td>0.0</td>\n",
              "      <td>...</td>\n",
              "      <td>0</td>\n",
              "      <td>0</td>\n",
              "      <td>1</td>\n",
              "      <td>0</td>\n",
              "      <td>0</td>\n",
              "      <td>0</td>\n",
              "      <td>0</td>\n",
              "      <td>0</td>\n",
              "      <td>0</td>\n",
              "      <td>0</td>\n",
              "    </tr>\n",
              "    <tr>\n",
              "      <th>70688</th>\n",
              "      <td>0.0</td>\n",
              "      <td>1.0</td>\n",
              "      <td>1.0</td>\n",
              "      <td>1.0</td>\n",
              "      <td>0.0</td>\n",
              "      <td>1.0</td>\n",
              "      <td>0.0</td>\n",
              "      <td>1.0</td>\n",
              "      <td>1.0</td>\n",
              "      <td>0.0</td>\n",
              "      <td>...</td>\n",
              "      <td>0</td>\n",
              "      <td>0</td>\n",
              "      <td>0</td>\n",
              "      <td>0</td>\n",
              "      <td>0</td>\n",
              "      <td>0</td>\n",
              "      <td>0</td>\n",
              "      <td>1</td>\n",
              "      <td>0</td>\n",
              "      <td>0</td>\n",
              "    </tr>\n",
              "    <tr>\n",
              "      <th>70689</th>\n",
              "      <td>1.0</td>\n",
              "      <td>1.0</td>\n",
              "      <td>1.0</td>\n",
              "      <td>0.0</td>\n",
              "      <td>0.0</td>\n",
              "      <td>1.0</td>\n",
              "      <td>0.0</td>\n",
              "      <td>1.0</td>\n",
              "      <td>0.0</td>\n",
              "      <td>0.0</td>\n",
              "      <td>...</td>\n",
              "      <td>0</td>\n",
              "      <td>1</td>\n",
              "      <td>0</td>\n",
              "      <td>0</td>\n",
              "      <td>0</td>\n",
              "      <td>1</td>\n",
              "      <td>0</td>\n",
              "      <td>0</td>\n",
              "      <td>0</td>\n",
              "      <td>0</td>\n",
              "    </tr>\n",
              "    <tr>\n",
              "      <th>70690</th>\n",
              "      <td>1.0</td>\n",
              "      <td>1.0</td>\n",
              "      <td>1.0</td>\n",
              "      <td>0.0</td>\n",
              "      <td>0.0</td>\n",
              "      <td>0.0</td>\n",
              "      <td>0.0</td>\n",
              "      <td>0.0</td>\n",
              "      <td>0.0</td>\n",
              "      <td>0.0</td>\n",
              "      <td>...</td>\n",
              "      <td>0</td>\n",
              "      <td>0</td>\n",
              "      <td>0</td>\n",
              "      <td>0</td>\n",
              "      <td>0</td>\n",
              "      <td>1</td>\n",
              "      <td>0</td>\n",
              "      <td>0</td>\n",
              "      <td>0</td>\n",
              "      <td>0</td>\n",
              "    </tr>\n",
              "    <tr>\n",
              "      <th>70691</th>\n",
              "      <td>1.0</td>\n",
              "      <td>1.0</td>\n",
              "      <td>1.0</td>\n",
              "      <td>0.0</td>\n",
              "      <td>0.0</td>\n",
              "      <td>1.0</td>\n",
              "      <td>1.0</td>\n",
              "      <td>1.0</td>\n",
              "      <td>0.0</td>\n",
              "      <td>0.0</td>\n",
              "      <td>...</td>\n",
              "      <td>0</td>\n",
              "      <td>1</td>\n",
              "      <td>0</td>\n",
              "      <td>1</td>\n",
              "      <td>0</td>\n",
              "      <td>0</td>\n",
              "      <td>0</td>\n",
              "      <td>0</td>\n",
              "      <td>0</td>\n",
              "      <td>0</td>\n",
              "    </tr>\n",
              "  </tbody>\n",
              "</table>\n",
              "<p>70691 rows × 41 columns</p>\n",
              "</div>\n",
              "      <button class=\"colab-df-convert\" onclick=\"convertToInteractive('df-5cfb8655-022f-46ea-9ce8-3cf5d1e2dedb')\"\n",
              "              title=\"Convert this dataframe to an interactive table.\"\n",
              "              style=\"display:none;\">\n",
              "        \n",
              "  <svg xmlns=\"http://www.w3.org/2000/svg\" height=\"24px\"viewBox=\"0 0 24 24\"\n",
              "       width=\"24px\">\n",
              "    <path d=\"M0 0h24v24H0V0z\" fill=\"none\"/>\n",
              "    <path d=\"M18.56 5.44l.94 2.06.94-2.06 2.06-.94-2.06-.94-.94-2.06-.94 2.06-2.06.94zm-11 1L8.5 8.5l.94-2.06 2.06-.94-2.06-.94L8.5 2.5l-.94 2.06-2.06.94zm10 10l.94 2.06.94-2.06 2.06-.94-2.06-.94-.94-2.06-.94 2.06-2.06.94z\"/><path d=\"M17.41 7.96l-1.37-1.37c-.4-.4-.92-.59-1.43-.59-.52 0-1.04.2-1.43.59L10.3 9.45l-7.72 7.72c-.78.78-.78 2.05 0 2.83L4 21.41c.39.39.9.59 1.41.59.51 0 1.02-.2 1.41-.59l7.78-7.78 2.81-2.81c.8-.78.8-2.07 0-2.86zM5.41 20L4 18.59l7.72-7.72 1.47 1.35L5.41 20z\"/>\n",
              "  </svg>\n",
              "      </button>\n",
              "      \n",
              "  <style>\n",
              "    .colab-df-container {\n",
              "      display:flex;\n",
              "      flex-wrap:wrap;\n",
              "      gap: 12px;\n",
              "    }\n",
              "\n",
              "    .colab-df-convert {\n",
              "      background-color: #E8F0FE;\n",
              "      border: none;\n",
              "      border-radius: 50%;\n",
              "      cursor: pointer;\n",
              "      display: none;\n",
              "      fill: #1967D2;\n",
              "      height: 32px;\n",
              "      padding: 0 0 0 0;\n",
              "      width: 32px;\n",
              "    }\n",
              "\n",
              "    .colab-df-convert:hover {\n",
              "      background-color: #E2EBFA;\n",
              "      box-shadow: 0px 1px 2px rgba(60, 64, 67, 0.3), 0px 1px 3px 1px rgba(60, 64, 67, 0.15);\n",
              "      fill: #174EA6;\n",
              "    }\n",
              "\n",
              "    [theme=dark] .colab-df-convert {\n",
              "      background-color: #3B4455;\n",
              "      fill: #D2E3FC;\n",
              "    }\n",
              "\n",
              "    [theme=dark] .colab-df-convert:hover {\n",
              "      background-color: #434B5C;\n",
              "      box-shadow: 0px 1px 3px 1px rgba(0, 0, 0, 0.15);\n",
              "      filter: drop-shadow(0px 1px 2px rgba(0, 0, 0, 0.3));\n",
              "      fill: #FFFFFF;\n",
              "    }\n",
              "  </style>\n",
              "\n",
              "      <script>\n",
              "        const buttonEl =\n",
              "          document.querySelector('#df-5cfb8655-022f-46ea-9ce8-3cf5d1e2dedb button.colab-df-convert');\n",
              "        buttonEl.style.display =\n",
              "          google.colab.kernel.accessAllowed ? 'block' : 'none';\n",
              "\n",
              "        async function convertToInteractive(key) {\n",
              "          const element = document.querySelector('#df-5cfb8655-022f-46ea-9ce8-3cf5d1e2dedb');\n",
              "          const dataTable =\n",
              "            await google.colab.kernel.invokeFunction('convertToInteractive',\n",
              "                                                     [key], {});\n",
              "          if (!dataTable) return;\n",
              "\n",
              "          const docLinkHtml = 'Like what you see? Visit the ' +\n",
              "            '<a target=\"_blank\" href=https://colab.research.google.com/notebooks/data_table.ipynb>data table notebook</a>'\n",
              "            + ' to learn more about interactive tables.';\n",
              "          element.innerHTML = '';\n",
              "          dataTable['output_type'] = 'display_data';\n",
              "          await google.colab.output.renderOutput(dataTable, element);\n",
              "          const docLink = document.createElement('div');\n",
              "          docLink.innerHTML = docLinkHtml;\n",
              "          element.appendChild(docLink);\n",
              "        }\n",
              "      </script>\n",
              "    </div>\n",
              "  </div>\n",
              "  "
            ]
          },
          "metadata": {},
          "execution_count": 177
        }
      ]
    },
    {
      "cell_type": "markdown",
      "source": [
        "#Step3: Build XGBoost Classifier Model"
      ],
      "metadata": {
        "id": "mJpRFAVx467B"
      }
    },
    {
      "cell_type": "markdown",
      "source": [
        "## Split data to train and test set"
      ],
      "metadata": {
        "id": "RniigaCb5Wkg"
      }
    },
    {
      "cell_type": "code",
      "source": [
        "X_train, X_test, Y_train, Y_test = train_test_split(dataset, labels, test_size=0.2, random_state=1)\n",
        "print(f\"Train size : {X_train.shape}\")\n",
        "print(f\"Test size : {X_test.shape}\")"
      ],
      "metadata": {
        "colab": {
          "base_uri": "https://localhost:8080/"
        },
        "id": "YNu2RZY05eoy",
        "outputId": "b80f5c1e-821d-401d-a57a-8a2bc6e2db42"
      },
      "execution_count": 178,
      "outputs": [
        {
          "output_type": "stream",
          "name": "stdout",
          "text": [
            "Train size : (56552, 41)\n",
            "Test size : (14139, 41)\n"
          ]
        }
      ]
    },
    {
      "cell_type": "markdown",
      "source": [
        "## Build the XGB model"
      ],
      "metadata": {
        "id": "GBEtmd9F6YKJ"
      }
    },
    {
      "cell_type": "code",
      "source": [
        "XGB_model = XGBClassifier(\n",
        "    learning_rate=0.1,\n",
        "    max_depth=4,\n",
        "    n_estimators=200,\n",
        "    subsample=0.5,\n",
        "    colsample_bytree=1,\n",
        "    random_seed=123,\n",
        "    random_state=123,\n",
        "    eval_metric='auc',\n",
        "    verbosity=1,\n",
        "    early_stopping_rounds=10\n",
        ")\n",
        "XGB_model.get_params()"
      ],
      "metadata": {
        "colab": {
          "base_uri": "https://localhost:8080/"
        },
        "id": "FTDGiild6VV1",
        "outputId": "275fcaf8-50f9-48c8-b3e7-478ef4ba25f2"
      },
      "execution_count": 179,
      "outputs": [
        {
          "output_type": "execute_result",
          "data": {
            "text/plain": [
              "{'base_score': 0.5,\n",
              " 'booster': 'gbtree',\n",
              " 'colsample_bylevel': 1,\n",
              " 'colsample_bynode': 1,\n",
              " 'colsample_bytree': 1,\n",
              " 'early_stopping_rounds': 10,\n",
              " 'eval_metric': 'auc',\n",
              " 'gamma': 0,\n",
              " 'learning_rate': 0.1,\n",
              " 'max_delta_step': 0,\n",
              " 'max_depth': 4,\n",
              " 'min_child_weight': 1,\n",
              " 'missing': None,\n",
              " 'n_estimators': 200,\n",
              " 'n_jobs': 1,\n",
              " 'nthread': None,\n",
              " 'objective': 'binary:logistic',\n",
              " 'random_seed': 123,\n",
              " 'random_state': 123,\n",
              " 'reg_alpha': 0,\n",
              " 'reg_lambda': 1,\n",
              " 'scale_pos_weight': 1,\n",
              " 'seed': None,\n",
              " 'silent': None,\n",
              " 'subsample': 0.5,\n",
              " 'verbosity': 1}"
            ]
          },
          "metadata": {},
          "execution_count": 179
        }
      ]
    },
    {
      "cell_type": "markdown",
      "source": [
        "<div>\n",
        "  <font color=\"yellow\" size=4.5>\n",
        "  Train the XGB model\n",
        "  </font>\n",
        "</div>"
      ],
      "metadata": {
        "id": "ViU7Ab2L7BaR"
      }
    },
    {
      "cell_type": "code",
      "source": [
        "XGB_model.fit(X_train, Y_train)"
      ],
      "metadata": {
        "colab": {
          "base_uri": "https://localhost:8080/"
        },
        "id": "ovQJsS2I7B6P",
        "outputId": "75ae34ca-cae2-4ee0-aae2-9c7bde2a62ec"
      },
      "execution_count": 180,
      "outputs": [
        {
          "output_type": "execute_result",
          "data": {
            "text/plain": [
              "XGBClassifier(early_stopping_rounds=10, eval_metric='auc', max_depth=4,\n",
              "              n_estimators=200, random_seed=123, random_state=123,\n",
              "              subsample=0.5)"
            ]
          },
          "metadata": {},
          "execution_count": 180
        }
      ]
    },
    {
      "cell_type": "markdown",
      "source": [
        "<div>\n",
        "  <font color=\"yellow\" size=4.5>\n",
        "  Predict train set and test set with XGB model\n",
        "  </font>\n",
        "</div>"
      ],
      "metadata": {
        "id": "Htjd56Rd8-cR"
      }
    },
    {
      "cell_type": "code",
      "source": [
        "Y_train_predicted = XGB_model.predict(X_train)\n",
        "accuracy_train = accuracy_score(Y_train_predicted, Y_train)\n",
        "print(f'Accuracy in train set: {accuracy_train}')\n",
        "\n",
        "Y_test_predicted = XGB_model.predict(X_test)\n",
        "accuracy_test = accuracy_score(Y_test_predicted, Y_test)\n",
        "print(f'Accuracy in test set: {accuracy_test}')"
      ],
      "metadata": {
        "colab": {
          "base_uri": "https://localhost:8080/"
        },
        "id": "gRzEPXmo9JXs",
        "outputId": "5a990b11-ad18-4d73-d00d-03e4ade5c98f"
      },
      "execution_count": 181,
      "outputs": [
        {
          "output_type": "stream",
          "name": "stdout",
          "text": [
            "Accuracy in train set: 0.7590889800537558\n",
            "Accuracy in test set: 0.7521041092014994\n"
          ]
        }
      ]
    },
    {
      "cell_type": "markdown",
      "source": [
        "<div>\n",
        "  <font color=\"yellow\" size=4.5>\n",
        "  Confusion matrix\n",
        "  </font>\n",
        "</div>"
      ],
      "metadata": {
        "id": "wFcJZijGFll1"
      }
    },
    {
      "cell_type": "code",
      "source": [
        "def plot_confusion_matrix(Y_test, Y_test_predicted):\n",
        "  cf_matrix = confusion_matrix(Y_test, Y_test_predicted)\n",
        "  plt.figure(figsize=(10, 10))\n",
        "  plt.imshow(cf_matrix)\n",
        "  plt.title(\"Confusion Matrix\")\n",
        "  plt.xlabel(\"Actual Values\")\n",
        "  plt.ylabel(\"Predicted Values\")\n",
        "  class_names = [\"Positive\", \"Negative\"]\n",
        "  ticks = np.arange(len(class_names))\n",
        "  plt.xticks(ticks, class_names)\n",
        "  plt.yticks(ticks, class_names)\n",
        "  TP, FN = cf_matrix[1][1], cf_matrix[1][0]\n",
        "  FP, TN = cf_matrix[0][1], cf_matrix[0][0]\n",
        "  tags = [[{\"TP\": TP}, {\"FP\": FP}], [{\"FN\": FN}, {\"TN\": TN}]]\n",
        "  print(tags)\n",
        "\n",
        "  for row_index in range(2):\n",
        "    for col_index in range(2):\n",
        "      plt.text(col_index, row_index, tags[row_index][col_index])"
      ],
      "metadata": {
        "id": "JBW7XYVLFlvB"
      },
      "execution_count": 182,
      "outputs": []
    },
    {
      "cell_type": "code",
      "source": [
        "plot_confusion_matrix(Y_test, Y_test_predicted)"
      ],
      "metadata": {
        "colab": {
          "base_uri": "https://localhost:8080/",
          "height": 638
        },
        "id": "vstB6XkkIygk",
        "outputId": "51694127-9651-4ba5-ad07-04b77cb8709f"
      },
      "execution_count": 183,
      "outputs": [
        {
          "output_type": "stream",
          "name": "stdout",
          "text": [
            "[[{'TP': 5575}, {'FP': 2081}], [{'FN': 1424}, {'TN': 5059}]]\n"
          ]
        },
        {
          "output_type": "display_data",
          "data": {
            "text/plain": [
              "<Figure size 720x720 with 1 Axes>"
            ],
            "image/png": "[encoded data removed]"
          },
          "metadata": {
            "needs_background": "light"
          }
        }
      ]
    },
    {
      "cell_type": "markdown",
      "source": [
        "<div>\n",
        "  <font color=\"yellow\" size=4.5>\n",
        "  Precision-Recall Curve\n",
        "  </font>\n",
        "</div>"
      ],
      "metadata": {
        "id": "0B5ZdtWH997U"
      }
    },
    {
      "cell_type": "code",
      "source": [
        "def get_precision_recall(Y_test, Y_test_predicted):\n",
        "  precision, recall, _ = precision_recall_curve(Y_test, Y_test_predicted)\n",
        "  return precision, recall"
      ],
      "metadata": {
        "id": "zm97NKXB9-Fw"
      },
      "execution_count": 184,
      "outputs": []
    },
    {
      "cell_type": "code",
      "source": [
        "precision, recall = get_precision_recall(Y_test, Y_test_predicted)\n",
        "print(f'precision: {precision}, recall: {recall}')"
      ],
      "metadata": {
        "colab": {
          "base_uri": "https://localhost:8080/"
        },
        "id": "zzkc7uKwEG_u",
        "outputId": "4d5dfcb4-f68e-491f-e2d6-a74bdbd1ddf4"
      },
      "execution_count": 185,
      "outputs": [
        {
          "output_type": "stream",
          "name": "stdout",
          "text": [
            "precision: [0.49501379 0.72818704 1.        ], recall: [1.         0.79654236 0.        ]\n"
          ]
        }
      ]
    },
    {
      "cell_type": "code",
      "source": [
        "def plot_precision_recall_curve(precision, recall):\n",
        "  auc_XGBoost = auc(recall, precision)\n",
        "  plt.plot(recall, precision, label=f'AUC XGBoost = {auc_XGBoost}')\n",
        "  plt.title('Precision-Recall Curve')\n",
        "  plt.xlabel(\"Recall\")\n",
        "  plt.ylabel(\"Precision\")\n",
        "  plt.legend()  "
      ],
      "metadata": {
        "id": "kY5ZmXqhYH1c"
      },
      "execution_count": 186,
      "outputs": []
    },
    {
      "cell_type": "code",
      "source": [
        "plot_precision_recall_curve(precision, recall)"
      ],
      "metadata": {
        "colab": {
          "base_uri": "https://localhost:8080/",
          "height": 295
        },
        "id": "anIGxoZgEbiA",
        "outputId": "471a54c4-2d2f-46e2-cb9d-3af887931117"
      },
      "execution_count": 187,
      "outputs": [
        {
          "output_type": "display_data",
          "data": {
            "text/plain": [
              "<Figure size 432x288 with 1 Axes>"
            ],
            "image/png": "[encoded data removed]"
          },
          "metadata": {
            "needs_background": "light"
          }
        }
      ]
    },
    {
      "cell_type": "markdown",
      "source": [
        "#Step4: Set Hyperparameters"
      ],
      "metadata": {
        "id": "jB8xHNTaMWsR"
      }
    },
    {
      "cell_type": "code",
      "source": [
        "XGBClassifier().get_params()"
      ],
      "metadata": {
        "colab": {
          "base_uri": "https://localhost:8080/"
        },
        "id": "E-i7dwiyMp7x",
        "outputId": "f14a67f0-730c-4286-c44c-5ac2932a8d27"
      },
      "execution_count": 189,
      "outputs": [
        {
          "output_type": "execute_result",
          "data": {
            "text/plain": [
              "{'base_score': 0.5,\n",
              " 'booster': 'gbtree',\n",
              " 'colsample_bylevel': 1,\n",
              " 'colsample_bynode': 1,\n",
              " 'colsample_bytree': 1,\n",
              " 'gamma': 0,\n",
              " 'learning_rate': 0.1,\n",
              " 'max_delta_step': 0,\n",
              " 'max_depth': 3,\n",
              " 'min_child_weight': 1,\n",
              " 'missing': None,\n",
              " 'n_estimators': 100,\n",
              " 'n_jobs': 1,\n",
              " 'nthread': None,\n",
              " 'objective': 'binary:logistic',\n",
              " 'random_state': 0,\n",
              " 'reg_alpha': 0,\n",
              " 'reg_lambda': 1,\n",
              " 'scale_pos_weight': 1,\n",
              " 'seed': None,\n",
              " 'silent': None,\n",
              " 'subsample': 1,\n",
              " 'verbosity': 1}"
            ]
          },
          "metadata": {},
          "execution_count": 189
        }
      ]
    },
    {
      "cell_type": "code",
      "source": [
        "def my_roc_auc_score(model, X, Y):\n",
        "  return roc_auc_score(Y, model.predict_proba(X)[:, 1])"
      ],
      "metadata": {
        "id": "AfKlu5srOU3C"
      },
      "execution_count": 190,
      "outputs": []
    },
    {
      "cell_type": "markdown",
      "source": [
        "<div>\n",
        "  <font color=\"yellow\" size=4.5>\n",
        "  Use GridSearchCV\n",
        "  </font>\n",
        "</div>"
      ],
      "metadata": {
        "id": "M-_brHp1Nimo"
      }
    },
    {
      "cell_type": "code",
      "source": [
        "parameters = {\n",
        "    'learning_rate': [0.02, 0.05, 0.1, 0.3],\n",
        "    'max_depth': [2, 3, 4],\n",
        "    'n_estimators': [100, 200, 300],\n",
        "    'colsample_bytree': [0.8, 1]\n",
        "}"
      ],
      "metadata": {
        "id": "fd0PdcoIQ9-Y"
      },
      "execution_count": 195,
      "outputs": []
    },
    {
      "cell_type": "code",
      "source": [
        "model = XGBClassifier(\n",
        "    objective = 'binary:logistic',\n",
        "    seed = 123 ,\n",
        "    subsample= 0.5,\n",
        "    eval_metric= 'auc'\n",
        "    ) \n",
        "\n",
        "clf = GridSearchCV(\n",
        "    model,\n",
        "    parameters,\n",
        "    cv=3,\n",
        "    scoring=my_roc_auc_score\n",
        ")"
      ],
      "metadata": {
        "id": "QswkSFCEOqQ4"
      },
      "execution_count": 196,
      "outputs": []
    },
    {
      "cell_type": "code",
      "source": [
        "clf.fit(X_train, Y_train)"
      ],
      "metadata": {
        "colab": {
          "base_uri": "https://localhost:8080/"
        },
        "id": "zJbS8ZImQTiB",
        "outputId": "66558ef9-3b43-4d94-c812-65cec544284f"
      },
      "execution_count": 197,
      "outputs": [
        {
          "output_type": "execute_result",
          "data": {
            "text/plain": [
              "GridSearchCV(cv=3,\n",
              "             estimator=XGBClassifier(eval_metric='auc', seed=123,\n",
              "                                     subsample=0.5),\n",
              "             param_grid={'colsample_bytree': [0.8, 1],\n",
              "                         'learning_rate': [0.02, 0.05, 0.1, 0.3],\n",
              "                         'max_depth': [2, 3, 4],\n",
              "                         'n_estimators': [100, 200, 300]},\n",
              "             scoring=<function my_roc_auc_score at 0x7fea75b28710>)"
            ]
          },
          "metadata": {},
          "execution_count": 197
        }
      ]
    },
    {
      "cell_type": "markdown",
      "source": [
        "<div>\n",
        "  <font color=\"yellow\" size=4.5>\n",
        "  Save \n",
        "  </font>\n",
        "</div>"
      ],
      "metadata": {
        "id": "cCJ5LkZEpSc-"
      }
    },
    {
      "cell_type": "code",
      "source": [
        "base_path = \"/content/gdrive/MyDrive/Colab Notebooks/Data Mining Course/Final Project/\"\n",
        "file_to_store = open(base_path + \"clf.pickle\", \"wb\")\n",
        "pickle.dump(clf, file_to_store)\n",
        "file_to_store.close()"
      ],
      "metadata": {
        "id": "8kL14VaeQdS8"
      },
      "execution_count": 242,
      "outputs": []
    },
    {
      "cell_type": "markdown",
      "source": [
        "<div>\n",
        "  <font color=\"yellow\" size=4.5>\n",
        " Load\n",
        "  </font>\n",
        "</div>"
      ],
      "metadata": {
        "id": "7nQW6j5FpaWa"
      }
    },
    {
      "cell_type": "code",
      "source": [
        "base_path = \"/content/gdrive/MyDrive/Colab Notebooks/Data Mining Course/Final Project/\"\n",
        "file_to_read = open(base_path + \"clf.pickle\", \"rb\")\n",
        "clf = pickle.load(file_to_read)\n",
        "file_to_read.close()"
      ],
      "metadata": {
        "id": "RNLJxczspQbQ"
      },
      "execution_count": 243,
      "outputs": []
    },
    {
      "cell_type": "markdown",
      "source": [
        "<div>\n",
        "  <font color=\"yellow\" size=4.5>\n",
        "  Best model parameters\n",
        "  </font>\n",
        "</div>"
      ],
      "metadata": {
        "id": "bUOvdi6qVt8E"
      }
    },
    {
      "cell_type": "code",
      "source": [
        "best_parameters = clf.best_params_\n",
        "best_score = clf.best_score_\n",
        "print(f'Best model score: {best_score}')\n",
        "print(f'Best model params: {best_parameters}')"
      ],
      "metadata": {
        "colab": {
          "base_uri": "https://localhost:8080/"
        },
        "id": "UQb0fQQYVmkV",
        "outputId": "84d83d16-10a8-4532-f001-f63899ad04e3"
      },
      "execution_count": 244,
      "outputs": [
        {
          "output_type": "stream",
          "name": "stdout",
          "text": [
            "Best model score: 0.8271463827642974\n",
            "Best model params: {'colsample_bytree': 0.8, 'learning_rate': 0.05, 'max_depth': 4, 'n_estimators': 200}\n"
          ]
        }
      ]
    },
    {
      "cell_type": "markdown",
      "source": [
        "<div>\n",
        "  <font color=\"yellow\" size=4.5>\n",
        "  Best model prediction\n",
        "  </font>\n",
        "</div>"
      ],
      "metadata": {
        "id": "WDYJtUxhWwhZ"
      }
    },
    {
      "cell_type": "code",
      "source": [
        "best_model_Y_test_predicted = clf.predict(X_test)\n",
        "accuracy = accuracy_score(Y_test, best_model_Y_test_predicted)\n",
        "print(f'test set accuracy: {accuracy}')"
      ],
      "metadata": {
        "colab": {
          "base_uri": "https://localhost:8080/"
        },
        "id": "nuVVMNQaW0rd",
        "outputId": "e1239e55-47aa-4831-9d15-41a0064040ef"
      },
      "execution_count": 245,
      "outputs": [
        {
          "output_type": "stream",
          "name": "stdout",
          "text": [
            "test set accuracy: 0.7551453426692128\n"
          ]
        }
      ]
    },
    {
      "cell_type": "markdown",
      "source": [
        "<div>\n",
        "  <font color=\"yellow\" size=4.5>\n",
        "  Best model Precision-Recall\n",
        "  </font>\n",
        "</div>"
      ],
      "metadata": {
        "id": "Qq7FmG-rXboK"
      }
    },
    {
      "cell_type": "code",
      "source": [
        "best_model_precision, best_model_recall = get_precision_recall(Y_test, best_model_Y_test_predicted)\n",
        "print(f'precision: {best_model_precision}, recall: {best_model_recall}')"
      ],
      "metadata": {
        "colab": {
          "base_uri": "https://localhost:8080/"
        },
        "id": "Mi1_CWCuXi0O",
        "outputId": "6ce21144-af95-400f-c4dc-6aefdec9f918"
      },
      "execution_count": 246,
      "outputs": [
        {
          "output_type": "stream",
          "name": "stdout",
          "text": [
            "precision: [0.49501379 0.73242213 1.        ], recall: [1.         0.79625661 0.        ]\n"
          ]
        }
      ]
    },
    {
      "cell_type": "code",
      "source": [
        "plot_precision_recall_curve(best_model_precision, best_model_recall)"
      ],
      "metadata": {
        "colab": {
          "base_uri": "https://localhost:8080/",
          "height": 295
        },
        "id": "QUdPzw9cYD1_",
        "outputId": "944db72d-2059-416e-9816-26eac3ec22c5"
      },
      "execution_count": 247,
      "outputs": [
        {
          "output_type": "display_data",
          "data": {
            "text/plain": [
              "<Figure size 432x288 with 1 Axes>"
            ],
            "image/png": "[encoded data removed]"
          },
          "metadata": {
            "needs_background": "light"
          }
        }
      ]
    },
    {
      "cell_type": "markdown",
      "source": [
        "<div>\n",
        "  <font color=\"yellow\" size=4.5>\n",
        "  Best model Confusion matrix\n",
        "  </font>\n",
        "</div>"
      ],
      "metadata": {
        "id": "l7ZNEj_YZO5O"
      }
    },
    {
      "cell_type": "code",
      "source": [
        "plot_confusion_matrix(Y_test, best_model_Y_test_predicted)"
      ],
      "metadata": {
        "colab": {
          "base_uri": "https://localhost:8080/",
          "height": 638
        },
        "id": "ql1xwUQRZPHn",
        "outputId": "6e2b0240-61ae-4661-95dc-29a14159ebcd"
      },
      "execution_count": 248,
      "outputs": [
        {
          "output_type": "stream",
          "name": "stdout",
          "text": [
            "[[{'TP': 5573}, {'FP': 2036}], [{'FN': 1426}, {'TN': 5104}]]\n"
          ]
        },
        {
          "output_type": "display_data",
          "data": {
            "text/plain": [
              "<Figure size 720x720 with 1 Axes>"
            ],
            "image/png": "[encoded data removed]"
          },
          "metadata": {
            "needs_background": "light"
          }
        }
      ]
    },
    {
      "cell_type": "markdown",
      "source": [
        "#Step5: Visualization"
      ],
      "metadata": {
        "id": "yH6y__oUZqp2"
      }
    },
    {
      "cell_type": "code",
      "source": [
        "clf.cv_results_.keys()"
      ],
      "metadata": {
        "colab": {
          "base_uri": "https://localhost:8080/"
        },
        "id": "gSP8EUL-pFWb",
        "outputId": "85e2eb0f-3ef9-4f25-8dec-754f03b57dcc"
      },
      "execution_count": 249,
      "outputs": [
        {
          "output_type": "execute_result",
          "data": {
            "text/plain": [
              "dict_keys(['mean_fit_time', 'std_fit_time', 'mean_score_time', 'std_score_time', 'param_colsample_bytree', 'param_learning_rate', 'param_max_depth', 'param_n_estimators', 'params', 'split0_test_score', 'split1_test_score', 'split2_test_score', 'mean_test_score', 'std_test_score', 'rank_test_score'])"
            ]
          },
          "metadata": {},
          "execution_count": 249
        }
      ]
    },
    {
      "cell_type": "markdown",
      "source": [
        "<div>\n",
        "  <font color=\"yellow\" size=4.5>\n",
        "  We have 72 states. (4(learning_rate)* 3(max_depth) * 3(n_estimator)* 2(colsample_butree))\n",
        "  </font>\n",
        "</div>"
      ],
      "metadata": {
        "id": "4D7C-mDBawjD"
      }
    },
    {
      "cell_type": "code",
      "source": [
        "len(clf.cv_results_[\"params\"])"
      ],
      "metadata": {
        "colab": {
          "base_uri": "https://localhost:8080/"
        },
        "id": "8tV-JDOiqmO0",
        "outputId": "52f488d0-8bcb-4774-ca8a-df956af650ed"
      },
      "execution_count": 250,
      "outputs": [
        {
          "output_type": "execute_result",
          "data": {
            "text/plain": [
              "72"
            ]
          },
          "metadata": {},
          "execution_count": 250
        }
      ]
    },
    {
      "cell_type": "code",
      "source": [
        "models_params = clf.cv_results_[\"params\"]\n",
        "models_mean_test_score = clf.cv_results_['mean_test_score']"
      ],
      "metadata": {
        "id": "z6WtmDS8hHSI"
      },
      "execution_count": 251,
      "outputs": []
    },
    {
      "cell_type": "markdown",
      "source": [
        "<div>\n",
        "  <font color=\"yellow\" size=4.5>\n",
        "  Plot relation between max_depth and learning_rate\n",
        "  </font>\n",
        "</div>"
      ],
      "metadata": {
        "id": "6Z5ZYwL2bSAd"
      }
    },
    {
      "cell_type": "code",
      "source": [
        "learning_rate_max_depth_dict = {0.02: {2:0, 3:0, 4:0}, 0.05: {2:0, 3:0, 4:0}, 0.1: {2:0, 3:0, 4:0}, 0.3: {2:0, 3:0, 4:0}}\n",
        "fixed_params = {\"n_estimators\": 200, \"colsample_bytree\": 0.8}\n",
        "\n",
        "for index, params in enumerate(models_params):\n",
        "  if params[\"n_estimators\"] == fixed_params[\"n_estimators\"] and params[\"colsample_bytree\"] == fixed_params[\"colsample_bytree\"]:\n",
        "    learning_rate, max_depth = params[\"learning_rate\"], params[\"max_depth\"]\n",
        "    learning_rate_max_depth_dict[learning_rate][max_depth] = models_mean_test_score[index]\n"
      ],
      "metadata": {
        "id": "H2038_w6bY_G"
      },
      "execution_count": 252,
      "outputs": []
    },
    {
      "cell_type": "code",
      "source": [
        "learning_rate_max_depth_dict"
      ],
      "metadata": {
        "colab": {
          "base_uri": "https://localhost:8080/"
        },
        "id": "kaU05mSWm8ZI",
        "outputId": "a1af6315-0728-4114-ab4f-2bd2653372ad"
      },
      "execution_count": 253,
      "outputs": [
        {
          "output_type": "execute_result",
          "data": {
            "text/plain": [
              "{0.02: {2: 0.8191405273039464, 3: 0.8231473323047287, 4: 0.8249531640468358},\n",
              " 0.05: {2: 0.8248625235121888, 3: 0.8264988594689058, 4: 0.8271463827642974},\n",
              " 0.1: {2: 0.8261877854839117, 3: 0.826643357884887, 4: 0.8263090215137101},\n",
              " 0.3: {2: 0.8258341430727155, 3: 0.8229667336660693, 4: 0.8192607365869643}}"
            ]
          },
          "metadata": {},
          "execution_count": 253
        }
      ]
    },
    {
      "cell_type": "code",
      "source": [
        "for learning_rate, depth_score in learning_rate_max_depth_dict.items():\n",
        "  max_depth = list(learning_rate_max_depth_dict[learning_rate].keys())\n",
        "  scores = list(learning_rate_max_depth_dict[learning_rate].values())\n",
        "  plt.plot(max_depth, scores)\n",
        "\n",
        "plt.legend(['Learning_rate = 0.02', 'Learning_rate = 0.05', 'Learning_rate = 0.1', 'Learning_rate = 0.3'])\n",
        "plt.xlabel('max_depth')\n",
        "plt.ylabel('score')\n",
        "plt.xticks(max_depth)\n",
        "plt.show()\n"
      ],
      "metadata": {
        "colab": {
          "base_uri": "https://localhost:8080/",
          "height": 280
        },
        "id": "LJWCLEXHqrNp",
        "outputId": "69dfe11a-a0e2-4777-ead1-f16a23844f27"
      },
      "execution_count": 254,
      "outputs": [
        {
          "output_type": "display_data",
          "data": {
            "text/plain": [
              "<Figure size 432x288 with 1 Axes>"
            ],
            "image/png": "[encoded data removed]"
          },
          "metadata": {
            "needs_background": "light"
          }
        }
      ]
    },
    {
      "cell_type": "markdown",
      "source": [
        "Excessive increase learning rate can lead to an escape from the global optimum."
      ],
      "metadata": {
        "id": "Ax1I8_EYZxSy"
      }
    },
    {
      "cell_type": "markdown",
      "source": [
        "<div>\n",
        "  <font color=\"yellow\" size=4.5>\n",
        "  Plot relation between n_estimators and learning_rate\n",
        "  </font>\n",
        "</div>"
      ],
      "metadata": {
        "id": "54--vd4OxqvP"
      }
    },
    {
      "cell_type": "code",
      "source": [
        "learning_rate_n_estimator_dict = {0.02: {100:0, 200:0, 300:0}, 0.05: {100:0, 200:0, 300:0}, 0.1: {100:0, 200:0, 300:0}, 0.3: {100:0, 200:0, 300:0}}\n",
        "fixed_params = {\"max_depth\": 4, \"colsample_bytree\": 0.8}\n",
        "\n",
        "for index, params in enumerate(models_params):\n",
        "  if params[\"max_depth\"] == fixed_params[\"max_depth\"] and params[\"colsample_bytree\"] == fixed_params[\"colsample_bytree\"]:\n",
        "    learning_rate, n_estimators = params[\"learning_rate\"], params[\"n_estimators\"]\n",
        "    learning_rate_n_estimator_dict[learning_rate][n_estimators] = models_mean_test_score[index]"
      ],
      "metadata": {
        "id": "BbIfAEiWxq6v"
      },
      "execution_count": 255,
      "outputs": []
    },
    {
      "cell_type": "code",
      "source": [
        "learning_rate_n_estimator_dict"
      ],
      "metadata": {
        "colab": {
          "base_uri": "https://localhost:8080/"
        },
        "id": "evVEhXDxyrL0",
        "outputId": "0533b523-dce6-4baa-bbca-b97148f4ede5"
      },
      "execution_count": 256,
      "outputs": [
        {
          "output_type": "execute_result",
          "data": {
            "text/plain": [
              "{0.02: {100: 0.8201159539526145,\n",
              "  200: 0.8249531640468358,\n",
              "  300: 0.8264745469212328},\n",
              " 0.05: {100: 0.8257826257262172,\n",
              "  200: 0.8271463827642974,\n",
              "  300: 0.8270386615443228},\n",
              " 0.1: {100: 0.8268790256986781,\n",
              "  200: 0.8263090215137101,\n",
              "  300: 0.8250278477158083},\n",
              " 0.3: {100: 0.8229907792968688,\n",
              "  200: 0.8192607365869643,\n",
              "  300: 0.8154308406169469}}"
            ]
          },
          "metadata": {},
          "execution_count": 256
        }
      ]
    },
    {
      "cell_type": "code",
      "source": [
        "for learning_rate, n_estimator_score in learning_rate_n_estimator_dict.items():\n",
        "  n_estimator = list(learning_rate_n_estimator_dict[learning_rate].keys())\n",
        "  scores = list(learning_rate_n_estimator_dict[learning_rate].values())\n",
        "  plt.plot(n_estimator, scores)\n",
        "\n",
        "plt.legend(['Learning_rate = 0.02', 'Learning_rate = 0.05', 'Learning_rate = 0.1', 'Learning_rate = 0.3'])\n",
        "plt.xlabel('n_estimator')\n",
        "plt.ylabel('score')\n",
        "plt.xticks(n_estimator)\n",
        "plt.show()"
      ],
      "metadata": {
        "colab": {
          "base_uri": "https://localhost:8080/",
          "height": 280
        },
        "id": "wOPIbqIPb4wG",
        "outputId": "c14f6206-0505-4899-f8a9-27a4fc03f70f"
      },
      "execution_count": 257,
      "outputs": [
        {
          "output_type": "display_data",
          "data": {
            "text/plain": [
              "<Figure size 432x288 with 1 Axes>"
            ],
            "image/png": "[encoded data removed]"
          },
          "metadata": {
            "needs_background": "light"
          }
        }
      ]
    },
    {
      "cell_type": "markdown",
      "source": [
        "<div>\n",
        "  <font color=\"yellow\" size=4.5>\n",
        "  Plot relation between colsample_bytree and learning_rate\n",
        "  </font>\n",
        "</div>"
      ],
      "metadata": {
        "id": "RHTGUChSciTF"
      }
    },
    {
      "cell_type": "code",
      "source": [
        "learning_rate_colsample_bytree_dict = {0.02: {0.8: 0, 1: 0}, 0.05: {0.8: 0, 1: 0}, 0.1: {0.8: 0, 1: 0}, 0.3: {0.8: 0, 1: 0}}\n",
        "fixed_params = {\"max_depth\": 4, \"n_estimators\": 200}\n",
        "\n",
        "for index, params in enumerate(models_params):\n",
        "  if params[\"max_depth\"] == fixed_params[\"max_depth\"] and params[\"n_estimators\"] == fixed_params[\"n_estimators\"]:\n",
        "    learning_rate, colsample_bytree = params[\"learning_rate\"], params[\"colsample_bytree\"]\n",
        "    learning_rate_colsample_bytree_dict[learning_rate][colsample_bytree] = models_mean_test_score[index]"
      ],
      "metadata": {
        "id": "HkEz3VGtci_x"
      },
      "execution_count": 258,
      "outputs": []
    },
    {
      "cell_type": "code",
      "source": [
        "learning_rate_colsample_bytree_dict"
      ],
      "metadata": {
        "colab": {
          "base_uri": "https://localhost:8080/"
        },
        "id": "PesZdLRld11Q",
        "outputId": "2dabf71c-abec-4a65-85b1-2e5e72b32e7b"
      },
      "execution_count": 259,
      "outputs": [
        {
          "output_type": "execute_result",
          "data": {
            "text/plain": [
              "{0.02: {0.8: 0.8249531640468358, 1: 0.8249113747617441},\n",
              " 0.05: {0.8: 0.8271463827642974, 1: 0.8271077519350104},\n",
              " 0.1: {0.8: 0.8263090215137101, 1: 0.8261972419619866},\n",
              " 0.3: {0.8: 0.8192607365869643, 1: 0.8175736302785004}}"
            ]
          },
          "metadata": {},
          "execution_count": 259
        }
      ]
    },
    {
      "cell_type": "code",
      "source": [
        "for learning_rate, colsample_bytree_score in learning_rate_colsample_bytree_dict.items():\n",
        "  colsample_bytree = list(learning_rate_colsample_bytree_dict[learning_rate].keys())\n",
        "  scores = list(learning_rate_colsample_bytree_dict[learning_rate].values())\n",
        "  plt.plot(colsample_bytree, scores)\n",
        "\n",
        "plt.legend(['Learning_rate = 0.02', 'Learning_rate = 0.05', 'Learning_rate = 0.1', 'Learning_rate = 0.3'])\n",
        "plt.xlabel('colsample_bytree')\n",
        "plt.ylabel('score')\n",
        "plt.xticks(colsample_bytree)\n",
        "plt.show()"
      ],
      "metadata": {
        "colab": {
          "base_uri": "https://localhost:8080/",
          "height": 280
        },
        "id": "Xjsa7xAld3ZY",
        "outputId": "239d4ae7-14e2-4a48-f4a7-5c5d1975053a"
      },
      "execution_count": 260,
      "outputs": [
        {
          "output_type": "display_data",
          "data": {
            "text/plain": [
              "<Figure size 432x288 with 1 Axes>"
            ],
            "image/png": "[encoded data removed]"
          },
          "metadata": {
            "needs_background": "light"
          }
        }
      ]
    },
    {
      "cell_type": "markdown",
      "source": [
        "<div>\n",
        "  <font color=\"yellow\" size=4.5>\n",
        "  Plot relation between max_depth and n_estimator\n",
        "  </font>\n",
        "</div>"
      ],
      "metadata": {
        "id": "5tkofUMlezAQ"
      }
    },
    {
      "cell_type": "code",
      "source": [
        "n_estimator_max_depth_dict = {100: {2:0, 3:0, 4:0}, 200: {2:0, 3:0, 4:0}, 300: {2:0, 3:0, 4:0}}\n",
        "fixed_params = {\"learning_rate\": 0.05, \"colsample_bytree\": 0.8}\n",
        "\n",
        "for index, params in enumerate(models_params):\n",
        "  if params[\"learning_rate\"] == fixed_params[\"learning_rate\"] and params[\"colsample_bytree\"] == fixed_params[\"colsample_bytree\"]:\n",
        "    n_estimators, max_depth = params[\"n_estimators\"], params[\"max_depth\"]\n",
        "    n_estimator_max_depth_dict[n_estimators][max_depth] = models_mean_test_score[index]"
      ],
      "metadata": {
        "id": "n2BiP6rTfFr9"
      },
      "execution_count": 261,
      "outputs": []
    },
    {
      "cell_type": "code",
      "source": [
        "n_estimator_max_depth_dict"
      ],
      "metadata": {
        "colab": {
          "base_uri": "https://localhost:8080/"
        },
        "id": "XyxV-HcslCmb",
        "outputId": "02acc2a1-6cad-42dc-9bae-ef4cc6de2b86"
      },
      "execution_count": 262,
      "outputs": [
        {
          "output_type": "execute_result",
          "data": {
            "text/plain": [
              "{100: {2: 0.8211154903330251, 3: 0.8240215589606382, 4: 0.8257826257262172},\n",
              " 200: {2: 0.8248625235121888, 3: 0.8264988594689058, 4: 0.8271463827642974},\n",
              " 300: {2: 0.8258981316639294, 3: 0.827000458322396, 4: 0.8270386615443228}}"
            ]
          },
          "metadata": {},
          "execution_count": 262
        }
      ]
    },
    {
      "cell_type": "code",
      "source": [
        "for n_estimator, max_depth_score in n_estimator_max_depth_dict.items():\n",
        "  max_depth = list(n_estimator_max_depth_dict[n_estimator].keys())\n",
        "  scores = list(n_estimator_max_depth_dict[n_estimator].values())\n",
        "  plt.plot(max_depth, scores)\n",
        "\n",
        "plt.legend([\"n_estimator: 100\", \"n_estimator: 200\", \"n_estimator: 300\"])\n",
        "plt.xlabel('max_depth')\n",
        "plt.ylabel('score')\n",
        "plt.xticks(max_depth)\n",
        "plt.show()"
      ],
      "metadata": {
        "colab": {
          "base_uri": "https://localhost:8080/",
          "height": 280
        },
        "id": "-KvMRkz3lFUG",
        "outputId": "02ec1cae-9032-4f2b-b2ab-7b8519b2b16b"
      },
      "execution_count": 263,
      "outputs": [
        {
          "output_type": "display_data",
          "data": {
            "text/plain": [
              "<Figure size 432x288 with 1 Axes>"
            ],
            "image/png": "[encoded data removed]"
          },
          "metadata": {
            "needs_background": "light"
          }
        }
      ]
    },
    {
      "cell_type": "markdown",
      "source": [
        "<div>\n",
        "  <font color=\"yellow\" size=4.5>\n",
        "  Plot relation between max_depth and colsample_bytree\n",
        "  </font>\n",
        "</div>"
      ],
      "metadata": {
        "id": "2Nj9KVqwmacC"
      }
    },
    {
      "cell_type": "code",
      "source": [
        "colsample_bytree_max_depth_dict = {0.8: {2:0, 3:0, 4:0}, 1: {2:0, 3:0, 4:0}}\n",
        "fixed_params = {\"learning_rate\": 0.05, \"n_estimators\": 200}\n",
        "\n",
        "for index, params in enumerate(models_params):\n",
        "  if params[\"learning_rate\"] == fixed_params[\"learning_rate\"] and params[\"n_estimators\"] == fixed_params[\"n_estimators\"]:\n",
        "    colsample_bytree, max_depth = params[\"colsample_bytree\"], params[\"max_depth\"]\n",
        "    colsample_bytree_max_depth_dict[colsample_bytree][max_depth] = models_mean_test_score[index]"
      ],
      "metadata": {
        "id": "-ehUwMweml0T"
      },
      "execution_count": 264,
      "outputs": []
    },
    {
      "cell_type": "code",
      "source": [
        "colsample_bytree_max_depth_dict"
      ],
      "metadata": {
        "colab": {
          "base_uri": "https://localhost:8080/"
        },
        "id": "1FV8ZEpUnCsg",
        "outputId": "83fc22b0-cdce-4158-8666-998d84fda5d1"
      },
      "execution_count": 265,
      "outputs": [
        {
          "output_type": "execute_result",
          "data": {
            "text/plain": [
              "{0.8: {2: 0.8248625235121888, 3: 0.8264988594689058, 4: 0.8271463827642974},\n",
              " 1: {2: 0.8249050651469645, 3: 0.8266309009229191, 4: 0.8271077519350104}}"
            ]
          },
          "metadata": {},
          "execution_count": 265
        }
      ]
    },
    {
      "cell_type": "code",
      "source": [
        "for colsample_bytree, max_depth_score in colsample_bytree_max_depth_dict.items():\n",
        "  max_depth = list(colsample_bytree_max_depth_dict[colsample_bytree].keys())\n",
        "  scores = list(colsample_bytree_max_depth_dict[colsample_bytree].values())\n",
        "  plt.plot(max_depth, scores)\n",
        "\n",
        "plt.legend([\"colsample_bytree: 0.8\", \"colsample_bytree: 1\"])\n",
        "plt.xlabel('max_depth')\n",
        "plt.ylabel('score')\n",
        "plt.xticks(max_depth)\n",
        "plt.show()"
      ],
      "metadata": {
        "colab": {
          "base_uri": "https://localhost:8080/",
          "height": 280
        },
        "id": "FH6VWQiCnIUk",
        "outputId": "6c2d032d-9ea6-416f-cffa-b25034f0c2b0"
      },
      "execution_count": 266,
      "outputs": [
        {
          "output_type": "display_data",
          "data": {
            "text/plain": [
              "<Figure size 432x288 with 1 Axes>"
            ],
            "image/png": "[encoded data removed]"
          },
          "metadata": {
            "needs_background": "light"
          }
        }
      ]
    },
    {
      "cell_type": "markdown",
      "source": [
        "<div>\n",
        "  <font color=\"yellow\" size=4.5>\n",
        "  Plot relation between n_estimator and colsample_bytree\n",
        "  </font>\n",
        "</div>"
      ],
      "metadata": {
        "id": "J0gnqtTWng05"
      }
    },
    {
      "cell_type": "code",
      "source": [
        "colsample_bytree_n_estimator_dict = {0.8: {100:0, 200:0, 300:0}, 1: {100:0, 200:0, 300:0}}\n",
        "fixed_params = {\"learning_rate\": 0.05, \"max_depth\": 4}\n",
        "\n",
        "for index, params in enumerate(models_params):\n",
        "  if params[\"learning_rate\"] == fixed_params[\"learning_rate\"] and params[\"max_depth\"] == fixed_params[\"max_depth\"]:\n",
        "    colsample_bytree, n_estimators = params[\"colsample_bytree\"], params[\"n_estimators\"]\n",
        "    colsample_bytree_n_estimator_dict[colsample_bytree][n_estimators] = models_mean_test_score[index]"
      ],
      "metadata": {
        "id": "9WIsuU9_nk-g"
      },
      "execution_count": 267,
      "outputs": []
    },
    {
      "cell_type": "code",
      "source": [
        "colsample_bytree_n_estimator_dict"
      ],
      "metadata": {
        "colab": {
          "base_uri": "https://localhost:8080/"
        },
        "id": "l7PXB4_joFd0",
        "outputId": "885000f7-1211-4a99-e2d8-26ffa373b1f3"
      },
      "execution_count": 268,
      "outputs": [
        {
          "output_type": "execute_result",
          "data": {
            "text/plain": [
              "{0.8: {100: 0.8257826257262172,\n",
              "  200: 0.8271463827642974,\n",
              "  300: 0.8270386615443228},\n",
              " 1: {100: 0.8257500216641409,\n",
              "  200: 0.8271077519350104,\n",
              "  300: 0.8268975768809712}}"
            ]
          },
          "metadata": {},
          "execution_count": 268
        }
      ]
    },
    {
      "cell_type": "code",
      "source": [
        "for colsample_bytree, n_estimator_score in colsample_bytree_n_estimator_dict.items():\n",
        "  n_estimator = list(colsample_bytree_n_estimator_dict[colsample_bytree].keys())\n",
        "  scores = list(colsample_bytree_n_estimator_dict[colsample_bytree].values())\n",
        "  plt.plot(n_estimator, scores)\n",
        "\n",
        "plt.legend([\"colsample_bytree: 0.8\", \"colsample_bytree: 1\"])\n",
        "plt.xlabel('n_estimator')\n",
        "plt.ylabel('score')\n",
        "plt.xticks(n_estimator)\n",
        "plt.show()"
      ],
      "metadata": {
        "colab": {
          "base_uri": "https://localhost:8080/",
          "height": 282
        },
        "id": "y8Du29IKoJRR",
        "outputId": "4828d6c1-a904-48ec-fb1f-27b4ffa4cbd1"
      },
      "execution_count": 269,
      "outputs": [
        {
          "output_type": "display_data",
          "data": {
            "text/plain": [
              "<Figure size 432x288 with 1 Axes>"
            ],
            "image/png": "[encoded data removed]"
          },
          "metadata": {
            "needs_background": "light"
          }
        }
      ]
    }
  ]
}